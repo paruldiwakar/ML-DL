{
 "cells": [
  {
   "cell_type": "code",
   "execution_count": 2,
   "metadata": {},
   "outputs": [],
   "source": [
    "from imutils import build_montages\n",
    "import matplotlib.pyplot as plt\n",
    "\n",
    "import cv2\n",
    "import numpy as np"
   ]
  },
  {
   "cell_type": "code",
   "execution_count": 3,
   "metadata": {},
   "outputs": [],
   "source": [
    "img_1= plt.imread(\"/Users/paruldiwakar/Desktop/codes/1.jpeg\")\n",
    "img_2= plt.imread(\"/Users/paruldiwakar/Desktop/codes/2.jpeg\")\n",
    "img_3= plt.imread(\"/Users/paruldiwakar/Desktop/codes/3.jpeg\")\n",
    "img_4= plt.imread(\"/Users/paruldiwakar/Desktop/codes/4.jpeg\")\n",
    "img_5= plt.imread(\"/Users/paruldiwakar/Desktop/codes/5.jpeg\")\n",
    "\n",
    "\n",
    "a=cv2.resize(img_1,(200,200))\n",
    "b=cv2.resize(img_2,(200,200))\n",
    "c=cv2.resize(img_3,(200,200))\n",
    "d=cv2.resize(img_4,(200,200))\n",
    "e=cv2.resize(img_5,(200,200))\n",
    "\n",
    "color = [0,0,0] \n",
    "\n",
    "top, bottom, left, right = [4]*4 #border width is [4]\n",
    "\n",
    "a = cv2.copyMakeBorder(a, top, bottom, left, right, cv2.BORDER_CONSTANT, value=color)\n",
    "b = cv2.copyMakeBorder(b, top, bottom, left, right, cv2.BORDER_CONSTANT, value=color)\n",
    "c = cv2.copyMakeBorder(c, top, bottom, left, right, cv2.BORDER_CONSTANT, value=color)\n",
    "d = cv2.copyMakeBorder(d, top, bottom, left, right, cv2.BORDER_CONSTANT, value=color)\n",
    "e = cv2.copyMakeBorder(e, top, bottom, left, right, cv2.BORDER_CONSTANT, value=color)\n",
    "#plt.imshow(a)"
   ]
  },
  {
   "cell_type": "code",
   "execution_count": 5,
   "metadata": {},
   "outputs": [],
   "source": [
    "images=[a,b,c,d,e]\n",
    "\n",
    "montages = build_montages(images,(200, 200),(5, 1))"
   ]
  },
  {
   "cell_type": "code",
   "execution_count": null,
   "metadata": {},
   "outputs": [],
   "source": [
    "for montage in montages:\n",
    "\tcv2.imshow(\"Montage\", montage)\n",
    "\n",
    "\tcv2.waitKey(0)"
   ]
  }
 ],
 "metadata": {
  "kernelspec": {
   "display_name": "Python 3",
   "language": "python",
   "name": "python3"
  },
  "language_info": {
   "codemirror_mode": {
    "name": "ipython",
    "version": 3
   },
   "file_extension": ".py",
   "mimetype": "text/x-python",
   "name": "python",
   "nbconvert_exporter": "python",
   "pygments_lexer": "ipython3",
   "version": "3.7.3"
  }
 },
 "nbformat": 4,
 "nbformat_minor": 2
}
