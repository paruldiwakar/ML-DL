{
 "cells": [
  {
   "cell_type": "code",
   "execution_count": 4,
   "metadata": {},
   "outputs": [],
   "source": [
    "import numpy as np\n",
    "import matplotlib.pyplot as plt\n",
    "from sklearn.datasets import make_blobs"
   ]
  },
  {
   "cell_type": "markdown",
   "metadata": {},
   "source": [
    "# Data preparation"
   ]
  },
  {
   "cell_type": "code",
   "execution_count": 8,
   "metadata": {},
   "outputs": [],
   "source": [
    "X,y = make_blobs(n_samples=500,n_features=2,centers=5,random_state=3)"
   ]
  },
  {
   "cell_type": "code",
   "execution_count": 165,
   "metadata": {},
   "outputs": [
    {
     "data": {
      "image/png": "[encoded data removed]",
      "text/plain": [
       "<Figure size 432x288 with 1 Axes>"
      ]
     },
     "metadata": {
      "needs_background": "light"
     },
     "output_type": "display_data"
    }
   ],
   "source": [
    "plt.scatter(X[:,0],X[:,1])\n",
    "plt.grid(True)\n",
    "plt.show()"
   ]
  },
  {
   "cell_type": "code",
   "execution_count": 166,
   "metadata": {},
   "outputs": [
    {
     "data": {
      "text/plain": [
       "2"
      ]
     },
     "execution_count": 166,
     "metadata": {},
     "output_type": "execute_result"
    }
   ],
   "source": [
    "X.shape[1]"
   ]
  },
  {
   "cell_type": "code",
   "execution_count": 219,
   "metadata": {},
   "outputs": [],
   "source": [
    "k=5\n",
    "color=[\"green\",\"red\",\"blue\",\"yellow\",\"orange\"]\n",
    "clusters={}\n",
    "\n",
    "for i in range(k):\n",
    "    #a vector for center which should have 2 values\n",
    "    x=np.random.randint(-10,10)\n",
    "    y=np.random.randint(-7.5,10)\n",
    "    center=np.array([x,y])\n",
    "    \n",
    "    points=[]\n",
    "    \n",
    "    cluster ={\n",
    "       'center':center,\n",
    "       'points':points,\n",
    "       'color':color[i]\n",
    "         }\n",
    "    \n",
    "    clusters[i]=cluster"
   ]
  },
  {
   "cell_type": "code",
   "execution_count": 220,
   "metadata": {},
   "outputs": [
    {
     "data": {
      "text/plain": [
       "{0: {'center': array([-3,  5]), 'points': [], 'color': 'green'},\n",
       " 1: {'center': array([4, 5]), 'points': [], 'color': 'red'},\n",
       " 2: {'center': array([5, 9]), 'points': [], 'color': 'blue'},\n",
       " 3: {'center': array([ 7, -6]), 'points': [], 'color': 'yellow'},\n",
       " 4: {'center': array([-6,  6]), 'points': [], 'color': 'orange'}}"
      ]
     },
     "execution_count": 220,
     "metadata": {},
     "output_type": "execute_result"
    }
   ],
   "source": [
    "clusters"
   ]
  },
  {
   "cell_type": "markdown",
   "metadata": {},
   "source": [
    "# Step 2 : E step (assigning the points to nearest cluster center)"
   ]
  },
  {
   "cell_type": "markdown",
   "metadata": {},
   "source": [
    "E step populates the points to nearest center"
   ]
  },
  {
   "cell_type": "code",
   "execution_count": 221,
   "metadata": {},
   "outputs": [],
   "source": [
    "def distance(v1,v2):\n",
    "    \n",
    "    return np.sqrt(sum((v1-v2)**2))"
   ]
  },
  {
   "cell_type": "code",
   "execution_count": 222,
   "metadata": {},
   "outputs": [],
   "source": [
    "def assignPointsToCluster(clusters, X):\n",
    "    for ix in range(X.shape[0]):\n",
    "    \n",
    "        dist=[]\n",
    "        curr_x = X[ix] \n",
    "        \n",
    "        #to compute the dist of current point from all the data points\n",
    "        for kx in range(k):\n",
    "        \n",
    "            #calculating the dist point from the center of the kth cluster\n",
    "            d= distance(curr_x,clusters[kx]['center'])\n",
    "        \n",
    "            dist.append(d)\n",
    "        \n",
    "        current_cluster=np.argmin(dist)\n",
    "        clusters[current_cluster]['points'].append(curr_x) \n",
    "    "
   ]
  },
  {
   "cell_type": "markdown",
   "metadata": {},
   "source": [
    "# Step 3 - Update Cluster Centeroids(M step)"
   ]
  },
  {
   "cell_type": "markdown",
   "metadata": {},
   "source": [
    "In M step we update the cluster center by taking the mean of all the prior assigned points\n",
    "            distances and empty the list and go back to E step"
   ]
  },
  {
   "cell_type": "code",
   "execution_count": 236,
   "metadata": {},
   "outputs": [],
   "source": [
    "\n",
    "\n",
    "def updateClusters(clusters):\n",
    "    for kx in range(k):\n",
    "        \n",
    "        pts=np.array(clusters[kx]['points'])\n",
    "        \n",
    "        if pts.shape[0]>0: #if the cluster has some non-zero points then take the mean along the 0th axis\n",
    "            \n",
    "            new_u=np.mean(pts, axis = 0)\n",
    "            clusters[kx]['center']=new_u\n",
    "            \n",
    "            #emptying the points list for new points\n",
    "            clusters[kx]['points']=[]\n",
    "        \n",
    "    \n",
    "\n",
    "\n",
    "def plot_cluster(clusters):\n",
    "    \n",
    "    for kx in range(k):\n",
    "        #print(len(clusters[kx]['points']))\n",
    "            \n",
    "        pts=np.array(clusters[kx]['points'])   \n",
    "        \n",
    "        #to plot the points \n",
    "        try:\n",
    "            plt.scatter(pts[:,0],pts[:,1],c=clusters[kx]['color'])\n",
    "        except:\n",
    "            pass\n",
    "            \n",
    "        #the cluster center\n",
    "        #print(pts)\n",
    "        uk=clusters[kx]['center']\n",
    "        print(pts.shape)\n",
    "        plt.scatter(uk[0],uk[1],c='black',s=80,marker=\"*\")\n",
    "        #plt.grid(True)\n",
    "        "
   ]
  },
  {
   "cell_type": "code",
   "execution_count": 242,
   "metadata": {},
   "outputs": [
    {
     "name": "stdout",
     "output_type": "stream",
     "text": [
      "(105, 2)\n",
      "(100, 2)\n",
      "(100, 2)\n",
      "(0,)\n",
      "(195, 2)\n"
     ]
    },
    {
     "data": {
      "image/png": "[encoded data removed]",
      "text/plain": [
       "<Figure size 432x288 with 1 Axes>"
      ]
     },
     "metadata": {
      "needs_background": "light"
     },
     "output_type": "display_data"
    }
   ],
   "source": [
    "assignPointsToCluster(clusters, X)\n",
    "plot_cluster(clusters)\n",
    "updateClusters(clusters)"
   ]
  },
  {
   "cell_type": "markdown",
   "metadata": {},
   "source": [
    "# Using sklearn"
   ]
  },
  {
   "cell_type": "markdown",
   "metadata": {},
   "source": [
    "from sklearn.cluster import KMeans"
   ]
  },
  {
   "cell_type": "code",
   "execution_count": 29,
   "metadata": {},
   "outputs": [],
   "source": [
    "kmeans= KMeans(n_clusters=5)"
   ]
  },
  {
   "cell_type": "code",
   "execution_count": 30,
   "metadata": {},
   "outputs": [
    {
     "data": {
      "text/plain": [
       "KMeans(algorithm='auto', copy_x=True, init='k-means++', max_iter=300,\n",
       "    n_clusters=5, n_init=10, n_jobs=None, precompute_distances='auto',\n",
       "    random_state=None, tol=0.0001, verbose=0)"
      ]
     },
     "execution_count": 30,
     "metadata": {},
     "output_type": "execute_result"
    }
   ],
   "source": [
    "kmeans.fit(X,y)"
   ]
  },
  {
   "cell_type": "code",
   "execution_count": 31,
   "metadata": {},
   "outputs": [],
   "source": [
    "centers=kmeans.cluster_centers_"
   ]
  },
  {
   "cell_type": "code",
   "execution_count": 40,
   "metadata": {},
   "outputs": [
    {
     "data": {
      "image/png": "[encoded data removed]",
      "text/plain": [
       "<Figure size 432x288 with 1 Axes>"
      ]
     },
     "metadata": {
      "needs_background": "light"
     },
     "output_type": "display_data"
    }
   ],
   "source": [
    "plt.scatter(X[:,0],X[:,1],c=pred)\n",
    "plt.scatter(centers[:,0],centers[:,1],marker='*',color='black')\n",
    "plt.show()"
   ]
  },
  {
   "cell_type": "code",
   "execution_count": 38,
   "metadata": {},
   "outputs": [
    {
     "name": "stdout",
     "output_type": "stream",
     "text": [
      "[4 1 3 4 4 3 0 4 1 4 1 3 1 4 3 4 1 4 4 1 2 2 4 3 4 2 0 0 3 0 4 0 2 2 4 2 1\n",
      " 1 4 2 2 2 0 0 3 1 1 0 0 0 1 4 0 4 4 2 4 4 1 3 1 3 3 4 0 1 3 3 2 3 2 4 2 4\n",
      " 2 3 4 0 2 2 3 2 3 0 1 0 3 1 0 3 0 2 4 2 2 1 4 3 3 2 1 2 3 3 1 1 1 3 3 4 1\n",
      " 0 4 1 3 2 1 0 2 3 1 3 0 4 2 0 0 0 4 4 3 3 4 1 1 0 3 0 3 4 4 2 3 1 0 4 1 1\n",
      " 4 3 4 4 3 3 1 2 2 0 3 4 2 1 0 2 1 2 1 2 2 2 0 4 2 1 2 0 4 3 1 0 1 4 1 2 0\n",
      " 0 2 4 3 1 2 3 0 4 0 2 3 0 4 4 4 2 2 1 4 0 0 4 1 4 4 4 2 1 3 1 4 4 1 0 3 0\n",
      " 0 2 4 3 4 3 0 2 3 3 4 2 4 2 3 1 3 2 2 1 4 4 3 3 2 1 2 4 0 1 0 4 0 0 0 0 1\n",
      " 2 1 4 2 1 0 3 1 1 1 0 4 4 3 2 2 1 3 3 4 3 0 3 1 1 0 0 2 0 0 1 2 4 3 2 3 0\n",
      " 3 3 1 4 2 1 2 2 4 0 2 3 2 0 4 4 3 1 2 0 1 2 3 0 1 0 4 2 0 3 3 2 2 2 4 0 2\n",
      " 4 1 3 3 0 1 1 3 3 0 2 2 2 4 0 1 0 4 2 1 1 3 2 2 0 2 0 3 3 3 0 2 4 2 3 0 0\n",
      " 1 4 1 0 4 0 3 1 2 1 3 4 4 1 1 2 1 2 0 3 1 0 4 4 1 3 2 0 4 4 4 0 1 2 1 1 1\n",
      " 0 2 3 1 3 3 0 3 4 3 4 1 2 2 4 1 0 4 2 3 1 0 3 0 0 1 0 3 0 1 0 3 0 4 2 2 0\n",
      " 2 1 2 2 0 4 4 3 0 2 3 0 3 1 3 1 4 2 3 4 3 4 4 2 4 2 0 1 1 3 4 4 0 0 1 0 0\n",
      " 1 0 1 1 1 0 2 0 3 1 3 3 0 3 0 2 2 0 1]\n"
     ]
    }
   ],
   "source": [
    "pred=kmeans.labels_\n",
    "print(pred)"
   ]
  },
  {
   "cell_type": "code",
   "execution_count": null,
   "metadata": {},
   "outputs": [],
   "source": []
  },
  {
   "cell_type": "code",
   "execution_count": null,
   "metadata": {},
   "outputs": [],
   "source": []
  }
 ],
 "metadata": {
  "kernelspec": {
   "display_name": "Python 3",
   "language": "python",
   "name": "python3"
  },
  "language_info": {
   "codemirror_mode": {
    "name": "ipython",
    "version": 3
   },
   "file_extension": ".py",
   "mimetype": "text/x-python",
   "name": "python",
   "nbconvert_exporter": "python",
   "pygments_lexer": "ipython3",
   "version": "3.7.3"
  }
 },
 "nbformat": 4,
 "nbformat_minor": 2
}
