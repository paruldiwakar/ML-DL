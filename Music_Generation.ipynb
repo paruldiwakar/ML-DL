{
  "nbformat": 4,
  "nbformat_minor": 0,
  "metadata": {
    "colab": {
      "name": "Music_Generation.ipynb",
      "provenance": [],
      "mount_file_id": "1F_Qh-LGVCdTdqse8yQGWz8QY9F9M83MF",
      "authorship_tag": "ABX9TyOgokGTFBHpTGhAVAIGXNVN",
      "include_colab_link": true
    },
    "kernelspec": {
      "name": "python3",
      "display_name": "Python 3"
    },
    "accelerator": "GPU"
  },
  "cells": [
    {
      "cell_type": "markdown",
      "metadata": {
        "id": "view-in-github",
        "colab_type": "text"
      },
      "source": [
        "<a href=\"https://colab.research.google.com/github/paruldiwakar/ML-DL/blob/master/Music_Generation.ipynb\" target=\"_parent\"><img src=\"https://colab.research.google.com/assets/colab-badge.svg\" alt=\"Open In Colab\"/></a>"
      ]
    },
    {
      "cell_type": "code",
      "metadata": {
        "id": "KG8FOWLvsghD",
        "colab_type": "code",
        "outputId": "0b9b44bc-82d5-4ea1-c99b-946f4d6973ec",
        "colab": {
          "base_uri": "https://localhost:8080/",
          "height": 54
        }
      },
      "source": [
        "from google.colab import drive \n",
        "drive.mount('/content/drive')"
      ],
      "execution_count": 1,
      "outputs": [
        {
          "output_type": "stream",
          "text": [
            "Drive already mounted at /content/drive; to attempt to forcibly remount, call drive.mount(\"/content/drive\", force_remount=True).\n"
          ],
          "name": "stdout"
        }
      ]
    },
    {
      "cell_type": "code",
      "metadata": {
        "id": "jxJAtsSUtDrC",
        "colab_type": "code",
        "colab": {
          "base_uri": "https://localhost:8080/",
          "height": 34
        },
        "outputId": "4be7e6a1-dd72-45db-bc64-614ea9a3aa5d"
      },
      "source": [
        "from music21 import converter,instrument,note,chord,stream\n",
        "import glob\n",
        "import pickle\n",
        "import numpy as np\n",
        "from keras.utils import np_utils"
      ],
      "execution_count": 2,
      "outputs": [
        {
          "output_type": "stream",
          "text": [
            "Using TensorFlow backend.\n"
          ],
          "name": "stderr"
        }
      ]
    },
    {
      "cell_type": "markdown",
      "metadata": {
        "id": "4OKCfSWkvHYa",
        "colab_type": "text"
      },
      "source": [
        "## Read a Midi File"
      ]
    },
    {
      "cell_type": "code",
      "metadata": {
        "id": "NBnRjjLQtFCD",
        "colab_type": "code",
        "colab": {}
      },
      "source": [
        "midi = converter.parse(\"/content/drive/My Drive/Colab Notebooks/midi_songs/midi_songs/Eternal_Harvest.mid\")"
      ],
      "execution_count": 0,
      "outputs": []
    },
    {
      "cell_type": "code",
      "metadata": {
        "id": "_FbhzNAOvm_F",
        "colab_type": "code",
        "outputId": "9c8fa1aa-424a-4d57-adc9-cb9e4a009ff6",
        "colab": {
          "base_uri": "https://localhost:8080/",
          "height": 34
        }
      },
      "source": [
        "midi"
      ],
      "execution_count": 4,
      "outputs": [
        {
          "output_type": "execute_result",
          "data": {
            "text/plain": [
              "<music21.stream.Score 0x7f0b3a916d68>"
            ]
          },
          "metadata": {
            "tags": []
          },
          "execution_count": 4
        }
      ]
    },
    {
      "cell_type": "code",
      "metadata": {
        "id": "SXpCuLViv2Gs",
        "colab_type": "code",
        "outputId": "0f68a6a5-3187-43a6-aef6-a04a835cb99f",
        "colab": {
          "base_uri": "https://localhost:8080/",
          "height": 17
        }
      },
      "source": [
        "midi.show('midi')"
      ],
      "execution_count": 5,
      "outputs": [
        {
          "output_type": "display_data",
          "data": {
            "text/html": [
              "\n",
              "                <div id='midiPlayerDiv15170'></div>\n",
              "                <link rel=\"stylesheet\" href=\"//cuthbertLab.github.io/music21j/css/m21.css\"\n",
              "                    type=\"text/css\" />\n",
              "                <script>\n",
              "                require.config({\n",
              "                    paths: {'music21': '//cuthbertLab.github.io/music21j/src/music21'}\n",
              "                });\n",
              "                require(['music21'], function() {\n",
              "                               mp = new music21.miditools.MidiPlayer();\n",
              "                               mp.addPlayer('#midiPlayerDiv15170');\n",
              "                               mp.base64Load('data:audio/midi;base64,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');\n",
              "                        });\n",
              "                </script>"
            ],
            "text/plain": [
              "<IPython.core.display.HTML object>"
            ]
          },
          "metadata": {
            "tags": []
          }
        }
      ]
    },
    {
      "cell_type": "code",
      "metadata": {
        "id": "7ckf2BBJv0e-",
        "colab_type": "code",
        "outputId": "da4fc632-07bd-46e7-a18d-49efc37f34b6",
        "colab": {
          "base_uri": "https://localhost:8080/",
          "height": 1000
        }
      },
      "source": [
        "midi.show('text')"
      ],
      "execution_count": 6,
      "outputs": [
        {
          "output_type": "stream",
          "text": [
            "{0.0} <music21.stream.Part 0x7f0b3a88e0b8>\n",
            "    {0.0} <music21.instrument.Piano Piano>\n",
            "    {0.0} <music21.instrument.Piano Piano>\n",
            "    {0.0} <music21.tempo.MetronomeMark Quarter=240.0>\n",
            "    {0.0} <music21.key.Key of E- major>\n",
            "    {0.0} <music21.meter.TimeSignature 12/8>\n",
            "    {0.0} <music21.stream.Voice 0x7f0b3ae17630>\n",
            "        {0.0} <music21.note.Note C>\n",
            "        {0.5} <music21.note.Note C>\n",
            "        {1.0} <music21.note.Note C>\n",
            "        {1.5} <music21.note.Note G>\n",
            "        {2.0} <music21.note.Note G>\n",
            "        {2.5} <music21.note.Note G>\n",
            "        {3.0} <music21.note.Note B->\n",
            "        {3.5} <music21.note.Note B->\n",
            "        {4.0} <music21.note.Note B->\n",
            "        {4.5} <music21.note.Note F>\n",
            "        {5.0} <music21.note.Note F>\n",
            "        {5.5} <music21.note.Note F>\n",
            "        {6.0} <music21.note.Note G#>\n",
            "        {6.5} <music21.note.Note G#>\n",
            "        {7.0} <music21.note.Note G#>\n",
            "        {7.5} <music21.note.Note E->\n",
            "        {8.0} <music21.note.Note E->\n",
            "        {8.5} <music21.note.Note E->\n",
            "        {9.0} <music21.note.Note G>\n",
            "        {9.5} <music21.note.Note G>\n",
            "        {10.0} <music21.note.Note G>\n",
            "        {10.5} <music21.note.Note D>\n",
            "        {11.0} <music21.note.Note D>\n",
            "        {11.5} <music21.note.Note D>\n",
            "        {12.0} <music21.chord.Chord E-4 G4 C4>\n",
            "        {12.5} <music21.chord.Chord D4 B-3>\n",
            "        {13.0} <music21.chord.Chord C4 G#3>\n",
            "        {13.5} <music21.chord.Chord B-3 E-4 G3>\n",
            "        {14.0} <music21.chord.Chord G#3 F3>\n",
            "        {14.5} <music21.chord.Chord G3 E-3>\n",
            "        {15.0} <music21.chord.Chord B-3 D4 F4 G2 D3>\n",
            "        {19.5} <music21.chord.Chord F3 F2>\n",
            "        {20.0} <music21.chord.Chord G3 G2>\n",
            "        {20.5} <music21.chord.Chord B-3 B-2>\n",
            "        {21.0} <music21.chord.Chord G3 G2>\n",
            "        {21.5} <music21.chord.Chord B-3 B-2>\n",
            "        {22.0} <music21.chord.Chord E-4 E-3>\n",
            "        {22.5} <music21.chord.Chord D4 D3>\n",
            "        {23.0} <music21.chord.Chord B-3 B-2>\n",
            "        {23.5} <music21.chord.Chord F4 F3>\n",
            "        {24.0} <music21.chord.Chord E-4 E-3>\n",
            "        {24.5} <music21.chord.Chord F4 F3>\n",
            "        {25.0} <music21.chord.Chord G4 G3>\n",
            "        {25.5} <music21.chord.Chord F4 F3>\n",
            "        {26.0} <music21.chord.Chord C4 C3>\n",
            "        {26.5} <music21.chord.Chord E-4 E-3>\n",
            "        {27.0} <music21.chord.Chord D4 D3>\n",
            "        {27.5} <music21.chord.Chord E-4 E-3>\n",
            "        {28.0} <music21.chord.Chord G4 G3>\n",
            "        {28.5} <music21.chord.Chord F4 F3>\n",
            "        {29.0} <music21.chord.Chord G4 G3>\n",
            "        {29.5} <music21.chord.Chord B-4 B-3>\n",
            "        {30.0} <music21.note.Note C>\n",
            "        {36.0} <music21.note.Note C>\n",
            "        {36.5} <music21.note.Note E->\n",
            "        {37.0} <music21.note.Note G>\n",
            "        {37.5} <music21.note.Note B->\n",
            "        {38.0} <music21.note.Note D>\n",
            "        {38.5} <music21.note.Note G>\n",
            "        {39.0} <music21.note.Note G#>\n",
            "        {39.5} <music21.note.Note C>\n",
            "        {40.0} <music21.note.Note G>\n",
            "        {40.5} <music21.note.Note B->\n",
            "        {41.0} <music21.note.Note D>\n",
            "        {41.5} <music21.note.Note G>\n",
            "        {42.0} <music21.note.Note E->\n",
            "        {43.5} <music21.note.Note D>\n",
            "        {45.0} <music21.chord.Chord C5 G#3>\n",
            "        {45.5} <music21.chord.Chord E-5 C4>\n",
            "        {46.0} <music21.chord.Chord F5 G4>\n",
            "        {46.5} <music21.chord.Chord G5 B-3>\n",
            "        {47.0} <music21.chord.Chord D5 D4>\n",
            "        {47.5} <music21.chord.Chord D5 G4>\n",
            "        {48.0} <music21.note.Note E->\n",
            "        {49.0} <music21.chord.Chord E-5 G4>\n",
            "        {49.5} <music21.chord.Chord D5 B-3>\n",
            "        {50.0} <music21.chord.Chord E-5 D4>\n",
            "        {50.5} <music21.chord.Chord D5 G4>\n",
            "        {51.0} <music21.chord.Chord C5 G#3>\n",
            "        {51.5} <music21.chord.Chord E-5 C4>\n",
            "        {52.0} <music21.chord.Chord F5 G4>\n",
            "        {52.5} <music21.chord.Chord B4 G5>\n",
            "        {54.0} <music21.note.Note E->\n",
            "        {55.0} <music21.chord.Chord E-5 G4>\n",
            "        {55.5} <music21.note.Note D>\n",
            "        {56.5} <music21.chord.Chord D5 G4>\n",
            "        {57.0} <music21.chord.Chord C5 G#3>\n",
            "        {57.5} <music21.chord.Chord D5 C4>\n",
            "        {58.0} <music21.chord.Chord E-5 G4>\n",
            "        {58.5} <music21.chord.Chord F5 A3>\n",
            "        {59.0} <music21.chord.Chord G5 C4>\n",
            "        {59.5} <music21.chord.Chord A5 G4>\n",
            "        {60.0} <music21.chord.Chord G5 B-5>\n",
            "        {61.0} <music21.chord.Chord B-5 E-4>\n",
            "        {61.5} <music21.chord.Chord C5 A5 F3>\n",
            "        {62.0} <music21.chord.Chord G5 C4>\n",
            "        {62.5} <music21.chord.Chord F5 E-4>\n",
            "        {63.0} <music21.note.Note G>\n",
            "        {64.5} <music21.note.Note D>\n",
            "        {65.0} <music21.note.Note B>\n",
            "        {65.5} <music21.note.Note G>\n",
            "        {66.0} <music21.note.Note E->\n",
            "        {67.5} <music21.note.Note D>\n",
            "        {69.0} <music21.chord.Chord C5 G#3>\n",
            "        {69.5} <music21.chord.Chord E-5 C4>\n",
            "        {70.0} <music21.chord.Chord F5 G4>\n",
            "        {70.5} <music21.chord.Chord G5 B-3>\n",
            "        {71.0} <music21.chord.Chord D5 D4>\n",
            "        {71.5} <music21.chord.Chord D5 G4>\n",
            "        {72.0} <music21.note.Note E->\n",
            "        {73.0} <music21.chord.Chord E-5 G4>\n",
            "        {73.5} <music21.chord.Chord D5 B-3>\n",
            "        {74.0} <music21.chord.Chord E-5 D4>\n",
            "        {74.5} <music21.chord.Chord D5 G4>\n",
            "        {75.0} <music21.chord.Chord C5 G#3>\n",
            "        {75.5} <music21.chord.Chord E-5 C4>\n",
            "        {76.0} <music21.chord.Chord F5 G4>\n",
            "        {76.5} <music21.chord.Chord B4 G5>\n",
            "        {78.0} <music21.chord.Chord B-4 B-5>\n",
            "        {79.0} <music21.chord.Chord B-5 G4>\n",
            "        {79.5} <music21.chord.Chord A5 A3>\n",
            "        {80.0} <music21.chord.Chord B-5 C4>\n",
            "        {80.5} <music21.chord.Chord A5 G4>\n",
            "        {81.0} <music21.chord.Chord G5 B-3>\n",
            "        {81.5} <music21.chord.Chord F5 E-4>\n",
            "        {82.0} <music21.chord.Chord E-5 G4>\n",
            "        {82.5} <music21.note.Note D>\n",
            "        {83.5} <music21.note.Note E->\n",
            "        {83.75} <music21.note.Note F>\n",
            "        {84.0} <music21.note.Note G>\n",
            "        {85.0} <music21.note.Note D>\n",
            "        {85.25} <music21.note.Note E->\n",
            "        {85.5} <music21.chord.Chord F5 B-3>\n",
            "        {86.0} <music21.chord.Chord E-5 D4>\n",
            "        {86.5} <music21.chord.Chord D5 G4>\n",
            "        {87.0} <music21.note.Note C>\n",
            "        {90.0} <music21.note.Note C>\n",
            "        {90.5} <music21.note.Note E->\n",
            "        {91.0} <music21.note.Note G>\n",
            "        {91.5} <music21.note.Note C>\n",
            "        {92.0} <music21.note.Note E->\n",
            "        {92.5} <music21.note.Note G>\n",
            "        {93.0} <music21.note.Note C>\n",
            "        {93.5} <music21.note.Note C>\n",
            "        {94.0} <music21.note.Note C>\n",
            "        {94.5} <music21.note.Note G>\n",
            "        {95.0} <music21.note.Note G>\n",
            "        {95.5} <music21.note.Note G>\n",
            "        {96.0} <music21.note.Note B->\n",
            "        {96.5} <music21.note.Note B->\n",
            "        {97.0} <music21.note.Note B->\n",
            "        {97.5} <music21.note.Note F>\n",
            "        {98.0} <music21.note.Note F>\n",
            "        {98.5} <music21.note.Note F>\n",
            "        {99.0} <music21.note.Note G#>\n",
            "        {99.5} <music21.note.Note G#>\n",
            "        {100.0} <music21.note.Note G#>\n",
            "        {100.5} <music21.note.Note E->\n",
            "        {101.0} <music21.note.Note E->\n",
            "        {101.5} <music21.note.Note E->\n",
            "        {102.0} <music21.note.Note G>\n",
            "        {102.5} <music21.note.Note G>\n",
            "        {103.0} <music21.note.Note G>\n",
            "        {103.5} <music21.note.Note D>\n",
            "        {104.0} <music21.note.Note D>\n",
            "        {104.5} <music21.note.Note D>\n",
            "        {105.0} <music21.chord.Chord E-5 G5 C5>\n",
            "        {105.5} <music21.chord.Chord D5 B-4>\n",
            "        {106.0} <music21.chord.Chord C5 G#4>\n",
            "        {106.5} <music21.chord.Chord B-4 E-5 G4>\n",
            "        {107.0} <music21.chord.Chord G#4 F4>\n",
            "        {107.5} <music21.chord.Chord G4 E-4>\n",
            "        {108.0} <music21.note.Note D>\n",
            "        {108.5} <music21.note.Note D>\n",
            "        {109.0} <music21.note.Note F>\n",
            "        {109.5} <music21.note.Note B->\n",
            "        {110.0} <music21.note.Note B->\n",
            "        {111.0} <music21.note.Note C>\n",
            "        {111.5} <music21.note.Note C>\n",
            "        {112.0} <music21.note.Note E->\n",
            "        {112.5} <music21.note.Note G#>\n",
            "        {113.0} <music21.note.Note G#>\n",
            "        {114.0} <music21.note.Note F>\n",
            "        {114.5} <music21.note.Note F>\n",
            "        {115.0} <music21.note.Note F>\n",
            "        {115.5} <music21.note.Note G#>\n",
            "        {116.0} <music21.note.Note G#>\n",
            "        {116.5} <music21.note.Note G#>\n",
            "        {117.0} <music21.note.Note G>\n",
            "        {117.5} <music21.note.Note G>\n",
            "        {118.0} <music21.note.Note G>\n",
            "        {118.5} <music21.note.Note G>\n",
            "        {123.0} <music21.note.Note E->\n",
            "        {124.5} <music21.note.Note D>\n",
            "        {126.0} <music21.chord.Chord C5 G#3>\n",
            "        {126.5} <music21.chord.Chord E-5 C4>\n",
            "        {127.0} <music21.chord.Chord F5 G4>\n",
            "        {127.5} <music21.chord.Chord G5 B-3>\n",
            "        {128.0} <music21.chord.Chord D5 D4>\n",
            "        {128.5} <music21.chord.Chord D5 G4>\n",
            "        {129.0} <music21.note.Note E->\n",
            "        {130.0} <music21.chord.Chord E-5 G4>\n",
            "        {130.5} <music21.chord.Chord D5 B-3>\n",
            "        {131.0} <music21.chord.Chord E-5 D4>\n",
            "        {131.5} <music21.chord.Chord D5 G4>\n",
            "        {132.0} <music21.chord.Chord C5 G#3>\n",
            "        {132.5} <music21.chord.Chord E-5 C4>\n",
            "        {133.0} <music21.chord.Chord F5 G4>\n",
            "        {133.5} <music21.chord.Chord B4 G5>\n",
            "        {135.0} <music21.note.Note E->\n",
            "        {136.0} <music21.chord.Chord E-5 G4>\n",
            "        {136.5} <music21.note.Note D>\n",
            "        {137.5} <music21.chord.Chord D5 G4>\n",
            "        {138.0} <music21.chord.Chord C5 G#3>\n",
            "        {138.5} <music21.chord.Chord D5 C4>\n",
            "        {139.0} <music21.chord.Chord E-5 G4>\n",
            "        {139.5} <music21.chord.Chord F5 A3>\n",
            "        {140.0} <music21.chord.Chord G5 C4>\n",
            "        {140.5} <music21.chord.Chord A5 G4>\n",
            "        {141.0} <music21.chord.Chord G5 B-5>\n",
            "        {142.0} <music21.chord.Chord B-5 E-4>\n",
            "        {142.5} <music21.chord.Chord C5 A5 F3>\n",
            "        {143.0} <music21.chord.Chord G5 C4>\n",
            "        {143.5} <music21.chord.Chord F5 F4>\n",
            "        {144.0} <music21.note.Note G>\n",
            "        {145.5} <music21.note.Note D>\n",
            "        {146.0} <music21.note.Note B>\n",
            "        {146.5} <music21.note.Note G>\n",
            "        {147.0} <music21.note.Note E->\n",
            "        {148.5} <music21.note.Note D>\n",
            "        {150.0} <music21.chord.Chord C5 G#3>\n",
            "        {150.5} <music21.chord.Chord E-5 C4>\n",
            "        {151.0} <music21.chord.Chord F5 G4>\n",
            "        {151.5} <music21.chord.Chord G5 B-3>\n",
            "        {152.0} <music21.chord.Chord D5 D4>\n",
            "        {152.5} <music21.chord.Chord D5 G4>\n",
            "        {153.0} <music21.note.Note E->\n",
            "        {154.0} <music21.chord.Chord E-5 G4>\n",
            "        {154.5} <music21.chord.Chord D5 B-3>\n",
            "        {155.0} <music21.chord.Chord E-5 D4>\n",
            "        {155.5} <music21.chord.Chord D5 G4>\n",
            "        {156.0} <music21.chord.Chord C5 G#3>\n",
            "        {156.5} <music21.chord.Chord E-5 C4>\n",
            "        {157.0} <music21.chord.Chord F5 G4>\n",
            "        {157.5} <music21.chord.Chord B4 G5>\n",
            "        {159.0} <music21.chord.Chord B-4 B-5>\n",
            "        {160.0} <music21.chord.Chord B-5 G4>\n",
            "        {160.5} <music21.chord.Chord A5 A3>\n",
            "        {161.0} <music21.chord.Chord B-5 C4>\n",
            "        {161.5} <music21.chord.Chord A5 F4>\n",
            "        {162.0} <music21.chord.Chord G5 B-3>\n",
            "        {162.5} <music21.chord.Chord F5 E-4>\n",
            "        {163.0} <music21.chord.Chord E-5 G4>\n",
            "        {163.5} <music21.note.Note D>\n",
            "        {164.5} <music21.note.Note E->\n",
            "        {164.75} <music21.note.Note F>\n",
            "        {165.0} <music21.note.Note G>\n",
            "        {166.0} <music21.note.Note D>\n",
            "        {166.25} <music21.note.Note E->\n",
            "        {166.5} <music21.chord.Chord F5 B-3>\n",
            "        {167.0} <music21.chord.Chord E-5 D4>\n",
            "        {167.5} <music21.chord.Chord G4 D5>\n",
            "        {168.0} <music21.note.Note C>\n",
            "        {171.0} <music21.note.Note B->\n",
            "        {171.75} <music21.note.Note C>\n",
            "        {172.25} <music21.note.Note C#>\n",
            "        {173.0} <music21.note.Note F>\n",
            "        {173.5} <music21.note.Note C#>\n",
            "        {174.0} <music21.chord.Chord B-4 F#1 F#2>\n",
            "        {175.0} <music21.chord.Chord G#4 G#1 G#2>\n",
            "        {176.0} <music21.chord.Chord F#4 A1 A2>\n",
            "        {177.0} <music21.chord.Chord F4 B-1 B-2>\n",
            "        {180.0} <music21.note.Note C>\n",
            "        {180.5} <music21.note.Note B->\n",
            "        {181.0} <music21.note.Note F>\n",
            "        {181.5} <music21.note.Note E->\n",
            "        {182.0} <music21.note.Note G#>\n",
            "        {182.5} <music21.note.Note C>\n",
            "        {183.0} <music21.note.Note C>\n",
            "        {183.5} <music21.note.Note C#>\n",
            "        {184.0} <music21.note.Note F#>\n",
            "        {184.5} <music21.note.Note C>\n",
            "        {185.0} <music21.note.Note F>\n",
            "        {185.5} <music21.note.Note B->\n",
            "        {186.0} <music21.note.Note G#>\n",
            "        {186.5} <music21.note.Note B->\n",
            "        {187.0} <music21.note.Note E->\n",
            "        {187.5} <music21.note.Note G#>\n",
            "        {188.0} <music21.note.Note C#>\n",
            "        {188.5} <music21.note.Note F#>\n",
            "        {189.0} <music21.note.Note F>\n",
            "        {192.0} <music21.chord.Chord F#4 C5>\n",
            "        {193.5} <music21.chord.Chord B-4 C#5>\n",
            "        {195.0} <music21.note.Note B->\n",
            "        {196.25} <music21.note.Note C#>\n",
            "        {197.0} <music21.note.Note F>\n",
            "        {197.5} <music21.note.Note C#>\n",
            "        {198.0} <music21.chord.Chord B-4 F#1 F#2>\n",
            "        {199.0} <music21.chord.Chord G#4 G#1 G#2>\n",
            "        {200.0} <music21.chord.Chord F#4 A1 A2>\n",
            "        {201.0} <music21.chord.Chord F4 B-1 B-2>\n",
            "        {204.0} <music21.note.Note C>\n",
            "        {204.5} <music21.note.Note B->\n",
            "        {205.0} <music21.note.Note F>\n",
            "        {205.5} <music21.note.Note E->\n",
            "        {206.0} <music21.note.Note C#>\n",
            "        {206.25} <music21.note.Note C>\n",
            "        {206.5} <music21.note.Note B->\n",
            "        {206.75} <music21.note.Note G#>\n",
            "        {207.0} <music21.chord.Chord F#5 E-3>\n",
            "        {207.5} <music21.chord.Chord F5 B-3>\n",
            "        {208.0} <music21.chord.Chord F#5 E-4>\n",
            "        {208.5} <music21.chord.Chord G#5 C#3>\n",
            "        {209.0} <music21.chord.Chord B-5 B-3>\n",
            "        {209.5} <music21.chord.Chord C6 E-4>\n",
            "        {210.0} <music21.chord.Chord C#6 C3>\n",
            "        {210.5} <music21.chord.Chord C6 B-3>\n",
            "        {211.0} <music21.chord.Chord C#6 E-4>\n",
            "        {211.5} <music21.note.Note E->\n",
            "        {212.0} <music21.note.Note F>\n",
            "        {212.5} <music21.note.Note F#>\n",
            "        {213.0} <music21.note.Note F>\n",
            "        {213.5} <music21.note.Note C>\n",
            "        {214.0} <music21.note.Note B->\n",
            "        {214.5} <music21.note.Note F>\n",
            "        {215.0} <music21.note.Note C>\n",
            "        {215.5} <music21.note.Note B->\n",
            "        {216.0} <music21.note.Note F>\n",
            "        {216.5} <music21.note.Note C>\n",
            "        {217.0} <music21.note.Note B->\n",
            "        {217.5} <music21.note.Note F>\n",
            "        {218.0} <music21.note.Note B->\n",
            "        {218.5} <music21.note.Note C>\n",
            "        {219.0} <music21.note.Note F>\n",
            "        {222.0} <music21.note.Note F>\n",
            "        {228.0} <music21.note.Note E>\n",
            "        {228.5} <music21.note.Note F>\n",
            "        {229.0} <music21.note.Note F#>\n",
            "        {229.5} <music21.note.Note G>\n",
            "        {230.0} <music21.note.Note G#>\n",
            "        {230.5} <music21.note.Note A>\n",
            "        {231.0} <music21.note.Note C#>\n",
            "        {232.5} <music21.note.Note C>\n",
            "        {234.0} <music21.chord.Chord B-4 F#3>\n",
            "        {234.5} <music21.chord.Chord C#5 B-3>\n",
            "        {235.0} <music21.chord.Chord E-5 F4>\n",
            "        {235.5} <music21.chord.Chord F5 G#3>\n",
            "        {236.0} <music21.chord.Chord C5 C4>\n",
            "        {236.5} <music21.chord.Chord C5 F4>\n",
            "        {237.0} <music21.note.Note C#>\n",
            "        {238.0} <music21.chord.Chord C#5 F4>\n",
            "        {238.5} <music21.chord.Chord C5 G#3>\n",
            "        {239.0} <music21.chord.Chord C#5 C4>\n",
            "        {239.5} <music21.chord.Chord C5 F4>\n",
            "        {240.0} <music21.chord.Chord B-4 F#3>\n",
            "        {240.5} <music21.chord.Chord C#5 B-3>\n",
            "        {241.0} <music21.chord.Chord E-5 F4>\n",
            "        {241.5} <music21.chord.Chord A4 F5>\n",
            "        {243.0} <music21.note.Note C#>\n",
            "        {244.0} <music21.chord.Chord C#5 F4>\n",
            "        {244.5} <music21.note.Note C>\n",
            "        {245.5} <music21.chord.Chord C5 F4>\n",
            "        {246.0} <music21.chord.Chord B-4 F#3>\n",
            "        {246.5} <music21.chord.Chord C5 B-3>\n",
            "        {247.0} <music21.chord.Chord C#5 F4>\n",
            "        {247.5} <music21.chord.Chord E-5 G3>\n",
            "        {248.0} <music21.chord.Chord F5 B-3>\n",
            "        {248.5} <music21.chord.Chord G5 F4>\n",
            "        {249.0} <music21.chord.Chord F5 G#5>\n",
            "        {250.0} <music21.chord.Chord G#5 C#4>\n",
            "        {250.5} <music21.chord.Chord B-4 G5 E-3>\n",
            "        {251.0} <music21.chord.Chord F5 B-3>\n",
            "        {251.5} <music21.chord.Chord E-5 E-4>\n",
            "        {252.0} <music21.note.Note F>\n",
            "        {253.5} <music21.note.Note C>\n",
            "        {254.0} <music21.note.Note A>\n",
            "        {254.5} <music21.note.Note F>\n",
            "        {255.0} <music21.note.Note C#>\n",
            "        {256.5} <music21.note.Note C>\n",
            "        {258.0} <music21.chord.Chord B-4 F#3>\n",
            "        {258.5} <music21.chord.Chord C#5 B-3>\n",
            "        {259.0} <music21.chord.Chord E-5 F4>\n",
            "        {259.5} <music21.chord.Chord F5 G#3>\n",
            "        {260.0} <music21.chord.Chord C5 C4>\n",
            "        {260.5} <music21.chord.Chord C5 F4>\n",
            "        {261.0} <music21.note.Note C#>\n",
            "        {262.0} <music21.chord.Chord C#5 F4>\n",
            "        {262.5} <music21.chord.Chord C5 G#3>\n",
            "        {263.0} <music21.chord.Chord C#5 C4>\n",
            "        {263.5} <music21.chord.Chord C5 F4>\n",
            "        {264.0} <music21.note.Note B->\n",
            "        {264.5} <music21.note.Note C#>\n",
            "        {265.0} <music21.note.Note E->\n",
            "        {265.5} <music21.chord.Chord A4 F5 F3>\n",
            "        {267.0} <music21.note.Note C#>\n",
            "        {268.0} <music21.chord.Chord C#5 F4>\n",
            "        {268.5} <music21.chord.Chord C5 G#3>\n",
            "        {269.0} <music21.chord.Chord C#5 C4>\n",
            "        {269.5} <music21.chord.Chord C5 F4>\n",
            "        {270.0} <music21.note.Note B->\n",
            "        {270.5} <music21.note.Note C#>\n",
            "        {271.0} <music21.note.Note E->\n",
            "        {271.5} <music21.chord.Chord A4 F5 F3>\n",
            "        {276.0} <music21.note.Note B->\n",
            "        {276.5} <music21.note.Note C#>\n",
            "        {277.0} <music21.note.Note E->\n",
            "        {277.5} <music21.chord.Chord A4 F5 F3>\n",
            "        {279.0} <music21.note.Note E>\n",
            "        {280.5} <music21.chord.Chord B4 G#3 C#4 A4>\n",
            "        {282.0} <music21.chord.Chord G#4 A3 B3 E4>\n",
            "        {283.5} <music21.chord.Chord A4 B4>\n",
            "        {285.0} <music21.chord.Chord G#4 E5>\n",
            "        {286.5} <music21.chord.Chord F#4 G#4 B3>\n",
            "        {288.0} <music21.chord.Chord E4 G#4 B-3>\n",
            "        {291.0} <music21.note.Note C#>\n",
            "        {291.5} <music21.note.Note G#>\n",
            "        {292.0} <music21.note.Note C#>\n",
            "        {292.5} <music21.note.Note E->\n",
            "        {293.0} <music21.note.Note F#>\n",
            "        {293.5} <music21.note.Note B->\n",
            "        {294.0} <music21.note.Note E>\n",
            "        {294.5} <music21.note.Note G#>\n",
            "        {295.0} <music21.note.Note C#>\n",
            "        {295.5} <music21.note.Note E>\n",
            "        {296.0} <music21.note.Note G#>\n",
            "        {296.5} <music21.note.Note C#>\n",
            "        {297.0} <music21.chord.Chord G#4 C#3>\n",
            "        {298.5} <music21.chord.Chord F#4 G#4 C4>\n",
            "        {300.0} <music21.chord.Chord E4 G#4>\n",
            "        {301.5} <music21.note.Note B->\n",
            "        {301.75} <music21.note.Note E>\n",
            "        {302.0} <music21.note.Note G#>\n",
            "        {302.25} <music21.note.Note C#>\n",
            "        {302.5} <music21.note.Note G#>\n",
            "        {303.0} <music21.note.Note F#>\n",
            "        {303.5} <music21.note.Note C#>\n",
            "        {304.0} <music21.note.Note G#>\n",
            "        {304.5} <music21.note.Note B->\n",
            "        {305.0} <music21.note.Note F#>\n",
            "        {305.5} <music21.note.Note C#>\n",
            "        {306.0} <music21.note.Note E>\n",
            "        {306.5} <music21.note.Note E->\n",
            "        {307.0} <music21.note.Note F#>\n",
            "        {307.5} <music21.note.Note B->\n",
            "        {308.0} <music21.note.Note C#>\n",
            "        {308.5} <music21.note.Note F#>\n",
            "        {309.0} <music21.chord.Chord G#4 C#5 E4>\n",
            "        {310.5} <music21.chord.Chord G#4 C4>\n",
            "        {312.0} <music21.chord.Chord B4 G#3 E-4>\n",
            "        {315.0} <music21.note.Note E->\n",
            "        {315.5} <music21.note.Note G#>\n",
            "        {316.0} <music21.note.Note G#>\n",
            "        {316.5} <music21.chord.Chord G#4 G#5>\n",
            "        {317.0} <music21.note.Note E->\n",
            "        {317.5} <music21.note.Note E->\n",
            "        {318.0} <music21.note.Note E->\n",
            "        {318.5} <music21.note.Note G#>\n",
            "        {319.0} <music21.note.Note G#>\n",
            "        {319.5} <music21.note.Note E->\n",
            "        {320.0} <music21.note.Note G#>\n",
            "        {320.5} <music21.note.Note E->\n",
            "        {321.0} <music21.note.Note C#>\n",
            "        {323.75} <music21.note.Note E>\n",
            "        {324.0} <music21.chord.Chord B4 E-4>\n",
            "        {327.0} <music21.note.Note C#>\n",
            "        {330.0} <music21.note.Note A>\n",
            "        {330.5} <music21.note.Note C#>\n",
            "        {331.0} <music21.note.Note E>\n",
            "        {331.5} <music21.chord.Chord C#5 A5>\n",
            "        {332.0} <music21.chord.Chord B4 G#5>\n",
            "        {332.5} <music21.chord.Chord A4 F#5>\n",
            "        {333.0} <music21.note.Note E>\n",
            "        {334.5} <music21.note.Note E->\n",
            "        {336.0} <music21.note.Note C#>\n",
            "        {336.5} <music21.note.Note E>\n",
            "        {337.0} <music21.note.Note F#>\n",
            "        {337.5} <music21.chord.Chord B4 G#5>\n",
            "        {338.0} <music21.note.Note E->\n",
            "        {338.5} <music21.note.Note E->\n",
            "        {339.0} <music21.note.Note E>\n",
            "        {340.5} <music21.note.Note E->\n",
            "        {342.0} <music21.note.Note C#>\n",
            "        {342.5} <music21.note.Note E>\n",
            "        {343.0} <music21.note.Note F#>\n",
            "        {343.5} <music21.chord.Chord B4 G#5>\n",
            "        {344.0} <music21.note.Note E->\n",
            "        {344.5} <music21.note.Note E->\n",
            "        {345.0} <music21.note.Note E>\n",
            "        {346.5} <music21.note.Note E->\n",
            "        {348.0} <music21.chord.Chord C#5 A3>\n",
            "        {348.5} <music21.chord.Chord E5 C#4>\n",
            "        {349.0} <music21.chord.Chord F#5 G#4>\n",
            "        {349.5} <music21.chord.Chord B4 G#5 B3>\n",
            "        {350.0} <music21.chord.Chord E-5 E-4>\n",
            "        {350.5} <music21.chord.Chord E-5 G#4>\n",
            "        {351.0} <music21.note.Note E>\n",
            "        {352.5} <music21.note.Note E->\n",
            "        {354.0} <music21.chord.Chord C#5 A3>\n",
            "        {354.5} <music21.chord.Chord E5 C#4>\n",
            "        {355.0} <music21.chord.Chord F#5 G#4>\n",
            "        {355.5} <music21.chord.Chord B4 G#5 B3>\n",
            "        {356.0} <music21.chord.Chord E-5 E-4>\n",
            "        {356.5} <music21.chord.Chord E-5 G#4>\n",
            "        {357.0} <music21.note.Note E>\n",
            "        {358.5} <music21.note.Note E->\n",
            "        {360.0} <music21.chord.Chord C#5 G#3>\n",
            "        {360.5} <music21.chord.Chord E5 C#4>\n",
            "        {361.0} <music21.chord.Chord F#5 E4>\n",
            "        {361.5} <music21.chord.Chord B4 G5 G3>\n",
            "        {362.0} <music21.chord.Chord E-5 C#4>\n",
            "        {362.5} <music21.chord.Chord E-5 G4>\n",
            "        {363.0} <music21.note.Note E>\n",
            "        {364.5} <music21.note.Note E->\n",
            "        {366.0} <music21.chord.Chord C#5 G#3>\n",
            "        {366.5} <music21.chord.Chord E5 C#4>\n",
            "        {367.0} <music21.chord.Chord F#5 E4>\n",
            "        {367.5} <music21.chord.Chord B4 G5 G3>\n",
            "        {368.0} <music21.chord.Chord E-5 C#4>\n",
            "        {368.5} <music21.chord.Chord E-5 G4>\n",
            "        {369.0} <music21.chord.Chord C#5 G3>\n",
            "        {369.5} <music21.chord.Chord E5 C#4>\n",
            "        {370.0} <music21.chord.Chord F#5 A4>\n",
            "        {370.5} <music21.chord.Chord B4 G5 A3>\n",
            "        {371.0} <music21.chord.Chord E-5 C#4>\n",
            "        {371.5} <music21.chord.Chord E-5 G4>\n",
            "        {372.0} <music21.chord.Chord C#5 G3>\n",
            "        {372.5} <music21.chord.Chord E5 C#4>\n",
            "        {373.0} <music21.chord.Chord F#5 A4>\n",
            "        {373.5} <music21.chord.Chord B4 G5 A3>\n",
            "        {374.0} <music21.chord.Chord E-5 C#4>\n",
            "        {374.5} <music21.chord.Chord E-5 G4>\n",
            "        {375.0} <music21.chord.Chord C#5 G3>\n",
            "        {375.5} <music21.chord.Chord E5 C#4>\n",
            "        {376.0} <music21.chord.Chord F#5 A4>\n",
            "        {376.5} <music21.chord.Chord B4 G5 A3>\n",
            "        {377.0} <music21.chord.Chord E-5 C#4>\n",
            "        {377.5} <music21.chord.Chord E-5 G4>\n",
            "        {378.0} <music21.chord.Chord B4 G5 G#3>\n",
            "        {378.5} <music21.chord.Chord D5 D4>\n",
            "        {379.0} <music21.chord.Chord D5 F4>\n",
            "        {379.5} <music21.note.Note E->\n",
            "        {381.0} <music21.note.Note D>\n",
            "        {382.5} <music21.chord.Chord C5 G#3>\n",
            "        {383.0} <music21.chord.Chord E-5 C4>\n",
            "        {383.5} <music21.chord.Chord F5 G4>\n",
            "        {384.0} <music21.chord.Chord G5 B-3>\n",
            "        {384.5} <music21.chord.Chord D5 D4>\n",
            "        {385.0} <music21.chord.Chord D5 G4>\n",
            "        {385.5} <music21.note.Note E->\n",
            "        {386.5} <music21.chord.Chord E-5 G4>\n",
            "        {387.0} <music21.chord.Chord D5 B-3>\n",
            "        {387.5} <music21.chord.Chord E-5 D4>\n",
            "        {388.0} <music21.chord.Chord D5 G4>\n",
            "        {388.5} <music21.chord.Chord C5 G#3>\n",
            "        {389.0} <music21.chord.Chord E-5 C4>\n",
            "        {389.5} <music21.chord.Chord F5 G4>\n",
            "        {390.0} <music21.chord.Chord B4 G5>\n",
            "        {391.5} <music21.note.Note E->\n",
            "        {392.5} <music21.chord.Chord E-5 G4>\n",
            "        {393.0} <music21.note.Note D>\n",
            "        {394.0} <music21.chord.Chord D5 G4>\n",
            "        {394.5} <music21.chord.Chord C5 G#3>\n",
            "        {395.0} <music21.chord.Chord D5 C4>\n",
            "        {395.5} <music21.chord.Chord E-5 G4>\n",
            "        {396.0} <music21.chord.Chord F5 A3>\n",
            "        {396.5} <music21.chord.Chord G5 C4>\n",
            "        {397.0} <music21.chord.Chord A5 E-4>\n",
            "        {397.5} <music21.chord.Chord G5 B-5>\n",
            "        {398.5} <music21.chord.Chord B-5 E-4>\n",
            "        {399.0} <music21.chord.Chord C5 A5 F3>\n",
            "        {399.5} <music21.chord.Chord G5 C4>\n",
            "        {400.0} <music21.chord.Chord F5 F4>\n",
            "        {400.5} <music21.note.Note G>\n",
            "        {402.0} <music21.note.Note D>\n",
            "        {402.5} <music21.note.Note B>\n",
            "        {403.0} <music21.note.Note G>\n",
            "        {403.5} <music21.note.Note E->\n",
            "        {405.0} <music21.note.Note D>\n",
            "        {406.5} <music21.chord.Chord C5 G#3>\n",
            "        {407.0} <music21.chord.Chord E-5 C4>\n",
            "        {407.5} <music21.chord.Chord F5 G4>\n",
            "        {408.0} <music21.chord.Chord G5 B-3>\n",
            "        {408.5} <music21.chord.Chord D5 D4>\n",
            "        {409.0} <music21.chord.Chord D5 G4>\n",
            "        {409.5} <music21.note.Note E->\n",
            "        {410.5} <music21.chord.Chord E-5 G4>\n",
            "        {411.0} <music21.chord.Chord D5 B-3>\n",
            "        {411.5} <music21.chord.Chord E-5 D4>\n",
            "        {412.0} <music21.chord.Chord D5 G4>\n",
            "        {412.5} <music21.chord.Chord C5 G#3>\n",
            "        {413.0} <music21.chord.Chord E-5 C4>\n",
            "        {413.5} <music21.chord.Chord F5 G4>\n",
            "        {414.0} <music21.chord.Chord B4 G5>\n",
            "        {415.5} <music21.chord.Chord B-4 B-5>\n",
            "        {416.5} <music21.chord.Chord B-5 G4>\n",
            "        {417.0} <music21.chord.Chord A5 A3>\n",
            "        {417.5} <music21.chord.Chord B-5 C4>\n",
            "        {418.0} <music21.chord.Chord A5 F4>\n",
            "        {418.5} <music21.chord.Chord G5 B-3>\n",
            "        {419.0} <music21.chord.Chord F5 E-4>\n",
            "        {419.5} <music21.chord.Chord E-5 G4>\n",
            "        {420.0} <music21.note.Note D>\n",
            "        {421.0} <music21.note.Note E->\n",
            "        {421.25} <music21.note.Note F>\n",
            "        {421.5} <music21.note.Note G>\n",
            "        {422.5} <music21.note.Note D>\n",
            "        {422.75} <music21.note.Note E->\n",
            "        {423.0} <music21.chord.Chord F5 B-3>\n",
            "        {423.5} <music21.chord.Chord E-5 D4>\n",
            "        {424.0} <music21.chord.Chord D5 G4>\n",
            "        {424.5} <music21.note.Note C>\n",
            "        {426.0} <music21.note.Note G#>\n",
            "        {426.5} <music21.note.Note F>\n",
            "        {427.0} <music21.note.Note C>\n",
            "        {427.5} <music21.note.Note G>\n",
            "        {428.0} <music21.note.Note E->\n",
            "        {428.5} <music21.note.Note C>\n",
            "        {429.0} <music21.note.Note G>\n",
            "        {429.5} <music21.note.Note D>\n",
            "        {430.0} <music21.note.Note B>\n",
            "        {430.5} <music21.chord.Chord G4 C5>\n",
            "        {432.0} <music21.chord.Chord G4 B-4>\n",
            "        {433.5} <music21.note.Note G>\n",
            "        {435.0} <music21.note.Note G>\n",
            "        {436.5} <music21.chord.Chord G4 C5>\n",
            "        {438.0} <music21.chord.Chord G4 B-4>\n",
            "        {439.5} <music21.note.Note G>\n",
            "        {441.0} <music21.chord.Chord G4 B4 G5>\n",
            "        {442.5} <music21.chord.Chord C5 C3>\n",
            "        {443.0} <music21.chord.Chord G4 G3>\n",
            "        {443.5} <music21.chord.Chord C5 E-5 C4>\n",
            "        {444.0} <music21.chord.Chord B-4 B-2>\n",
            "        {444.5} <music21.chord.Chord G4 G3>\n",
            "        {445.0} <music21.chord.Chord B-4 D5 D4>\n",
            "        {445.5} <music21.note.Note G>\n",
            "        {447.0} <music21.note.Note A>\n",
            "        {448.5} <music21.chord.Chord B-4 B-5>\n",
            "        {449.5} <music21.chord.Chord B-5 E-3>\n",
            "        {450.0} <music21.chord.Chord A5 F2>\n",
            "        {450.5} <music21.chord.Chord G5 C3>\n",
            "        {451.0} <music21.chord.Chord F5 F3>\n",
            "        {451.5} <music21.note.Note G>\n",
            "        {453.0} <music21.note.Note D>\n",
            "        {453.5} <music21.note.Note G>\n",
            "        {454.0} <music21.note.Note D>\n",
            "        {454.5} <music21.chord.Chord G4 C5>\n",
            "        {456.0} <music21.chord.Chord G4 B-4>\n",
            "        {457.5} <music21.note.Note G>\n",
            "        {459.0} <music21.note.Note G>\n",
            "        {460.5} <music21.chord.Chord G4 C5>\n",
            "        {462.0} <music21.chord.Chord G4 B-4>\n",
            "        {463.5} <music21.note.Note G>\n",
            "        {465.0} <music21.chord.Chord G4 B4 G5>\n",
            "        {466.5} <music21.chord.Chord B-4 D5 G#2 D3 G3>\n",
            "        {468.0} <music21.chord.Chord A4 C5 F5 A2 F3 A3>\n",
            "        {469.5} <music21.note.Note G>\n",
            "        {470.0} <music21.note.Note F>\n",
            "        {471.0} <music21.chord.Chord D4 B2 D3 G3 B3>\n",
            "        {472.5} <music21.chord.Chord G4 G5>\n",
            "        {473.5} <music21.note.Note D>\n",
            "        {473.75} <music21.note.Note E->\n",
            "        {474.0} <music21.note.Note F>\n",
            "        {474.5} <music21.note.Note E->\n",
            "        {475.0} <music21.note.Note D>\n",
            "        {478.5} <music21.chord.Chord G1 G2>\n",
            "        {480.0} <music21.chord.Chord F3 F2>\n",
            "        {480.5} <music21.chord.Chord G3 G2>\n",
            "        {481.0} <music21.chord.Chord B-3 B-2>\n",
            "        {481.5} <music21.chord.Chord G3 G2>\n",
            "        {482.0} <music21.chord.Chord B-3 B-2>\n",
            "        {482.5} <music21.chord.Chord E-4 E-3>\n",
            "        {483.0} <music21.chord.Chord D4 D3>\n",
            "        {483.5} <music21.chord.Chord B-3 B-2>\n",
            "        {484.0} <music21.chord.Chord F4 F3>\n",
            "        {484.5} <music21.chord.Chord E-4 E-3>\n",
            "        {485.0} <music21.chord.Chord F4 F3>\n",
            "        {485.5} <music21.chord.Chord G4 G3>\n",
            "        {486.0} <music21.chord.Chord F4 F3>\n",
            "        {486.5} <music21.chord.Chord C4 C3>\n",
            "        {487.0} <music21.chord.Chord E-4 E-3>\n",
            "        {487.5} <music21.chord.Chord D4 D3>\n",
            "        {488.0} <music21.chord.Chord E-4 E-3>\n",
            "        {488.5} <music21.chord.Chord G4 G3>\n",
            "        {489.0} <music21.chord.Chord F4 F3>\n",
            "        {489.5} <music21.chord.Chord G4 G3>\n",
            "        {490.0} <music21.chord.Chord B-4 B-3>\n",
            "        {490.5} <music21.chord.Chord G#4 G#3>\n",
            "        {491.0} <music21.chord.Chord B-4 B-3>\n",
            "        {491.5} <music21.chord.Chord D5 D4>\n",
            "        {492.0} <music21.chord.Chord C5 C4>\n",
            "        {492.5} <music21.chord.Chord D5 D4>\n",
            "        {493.0} <music21.chord.Chord F5 F4>\n",
            "        {493.5} <music21.chord.Chord D5 D4>\n",
            "        {494.0} <music21.chord.Chord E-5 E-4>\n",
            "        {494.5} <music21.chord.Chord G5 G4>\n",
            "        {495.0} <music21.chord.Chord F5 F4>\n",
            "        {495.5} <music21.chord.Chord G5 G4>\n",
            "        {496.0} <music21.chord.Chord B-5 B-4>\n",
            "        {496.5} <music21.chord.Chord G#5 G#4>\n",
            "        {497.0} <music21.chord.Chord B-5 B-4>\n",
            "        {497.5} <music21.chord.Chord C6 C5>\n",
            "        {498.0} <music21.chord.Chord D6 D5>\n",
            "        {498.5} <music21.chord.Chord E-6 E-5>\n",
            "        {499.0} <music21.chord.Chord F6 F5>\n",
            "        {499.5} <music21.chord.Chord D6 D5>\n",
            "        {500.0} <music21.chord.Chord E-6 E-5>\n",
            "        {500.5} <music21.chord.Chord F6 F5>\n",
            "        {501.0} <music21.chord.Chord G6 G5>\n",
            "        {501.5} <music21.chord.Chord G#6 G#5>\n",
            "        {502.0} <music21.chord.Chord B-6 B-5>\n",
            "        {502.5} <music21.chord.Chord C6 B-6>\n",
            "    {0.0} <music21.stream.Voice 0x7f0b3a2e27b8>\n",
            "        {0.0} <music21.note.Rest rest>\n",
            "        {16.5} <music21.note.Note G>\n",
            "        {30.0} <music21.note.Note C>\n",
            "        {30.5} <music21.note.Note E->\n",
            "        {31.0} <music21.note.Note G>\n",
            "        {31.5} <music21.note.Note B->\n",
            "        {32.0} <music21.note.Note D>\n",
            "        {32.5} <music21.note.Note G>\n",
            "        {33.0} <music21.note.Note G#>\n",
            "        {33.5} <music21.note.Note C>\n",
            "        {34.0} <music21.note.Note G>\n",
            "        {34.5} <music21.note.Note B->\n",
            "        {35.0} <music21.note.Note D>\n",
            "        {35.5} <music21.note.Note G>\n",
            "        {42.0} <music21.note.Note C>\n",
            "        {42.5} <music21.note.Note E->\n",
            "        {43.0} <music21.note.Note G>\n",
            "        {43.5} <music21.note.Note B->\n",
            "        {44.0} <music21.note.Note D>\n",
            "        {44.5} <music21.note.Note G>\n",
            "        {48.0} <music21.note.Note C>\n",
            "        {48.5} <music21.note.Note E->\n",
            "        {52.5} <music21.note.Note G>\n",
            "        {53.0} <music21.note.Note D>\n",
            "        {53.5} <music21.note.Note G>\n",
            "        {54.0} <music21.note.Note C>\n",
            "        {54.5} <music21.note.Note E->\n",
            "        {55.5} <music21.note.Note B->\n",
            "        {56.0} <music21.note.Note D>\n",
            "        {60.0} <music21.note.Note E->\n",
            "        {60.5} <music21.note.Note B->\n",
            "        {63.0} <music21.note.Note G>\n",
            "        {63.5} <music21.note.Note D>\n",
            "        {64.0} <music21.note.Note G>\n",
            "        {66.0} <music21.note.Note C>\n",
            "        {66.5} <music21.note.Note E->\n",
            "        {67.0} <music21.note.Note G>\n",
            "        {67.5} <music21.note.Note B->\n",
            "        {68.0} <music21.note.Note D>\n",
            "        {68.5} <music21.note.Note G>\n",
            "        {72.0} <music21.note.Note C>\n",
            "        {72.5} <music21.note.Note E->\n",
            "        {76.5} <music21.note.Note G>\n",
            "        {77.0} <music21.note.Note D>\n",
            "        {77.5} <music21.note.Note G>\n",
            "        {78.0} <music21.note.Note G>\n",
            "        {78.5} <music21.note.Note D>\n",
            "        {82.5} <music21.note.Note B>\n",
            "        {83.0} <music21.note.Note D>\n",
            "        {83.5} <music21.note.Note G>\n",
            "        {84.0} <music21.note.Note G#>\n",
            "        {84.5} <music21.note.Note C>\n",
            "        {85.0} <music21.note.Note G>\n",
            "        {87.0} <music21.note.Note C>\n",
            "        {87.5} <music21.note.Note F>\n",
            "        {88.0} <music21.note.Note G>\n",
            "        {88.5} <music21.note.Note C>\n",
            "        {89.0} <music21.note.Note G>\n",
            "        {89.5} <music21.note.Note F>\n",
            "        {121.0} <music21.note.Note B->\n",
            "        {121.5} <music21.note.Note D>\n",
            "        {122.0} <music21.note.Note B->\n",
            "        {122.5} <music21.note.Note D>\n",
            "        {123.0} <music21.note.Note C>\n",
            "        {123.5} <music21.note.Note E->\n",
            "        {124.0} <music21.note.Note G>\n",
            "        {124.5} <music21.note.Note B->\n",
            "        {125.0} <music21.note.Note D>\n",
            "        {125.5} <music21.note.Note G>\n",
            "        {129.0} <music21.note.Note C>\n",
            "        {129.5} <music21.note.Note E->\n",
            "        {133.5} <music21.note.Note G>\n",
            "        {134.0} <music21.note.Note D>\n",
            "        {134.5} <music21.note.Note G>\n",
            "        {135.0} <music21.note.Note C>\n",
            "        {135.5} <music21.note.Note E->\n",
            "        {136.5} <music21.note.Note B->\n",
            "        {137.0} <music21.note.Note D>\n",
            "        {141.0} <music21.note.Note E->\n",
            "        {141.5} <music21.note.Note B->\n",
            "        {144.0} <music21.note.Note G>\n",
            "        {144.5} <music21.note.Note D>\n",
            "        {145.0} <music21.note.Note G>\n",
            "        {147.0} <music21.note.Note C>\n",
            "        {147.5} <music21.note.Note E->\n",
            "        {148.0} <music21.note.Note G>\n",
            "        {148.5} <music21.note.Note B->\n",
            "        {149.0} <music21.note.Note D>\n",
            "        {149.5} <music21.note.Note G>\n",
            "        {153.0} <music21.note.Note C>\n",
            "        {153.5} <music21.note.Note E->\n",
            "        {157.5} <music21.note.Note G>\n",
            "        {158.0} <music21.note.Note D>\n",
            "        {158.5} <music21.note.Note G>\n",
            "        {159.0} <music21.note.Note G>\n",
            "        {159.5} <music21.note.Note D>\n",
            "        {163.5} <music21.note.Note B>\n",
            "        {164.0} <music21.note.Note D>\n",
            "        {164.5} <music21.note.Note G>\n",
            "        {165.0} <music21.note.Note G#>\n",
            "        {165.5} <music21.note.Note C>\n",
            "        {166.0} <music21.note.Note G>\n",
            "        {168.0} <music21.note.Note C>\n",
            "        {168.5} <music21.note.Note G>\n",
            "        {169.0} <music21.note.Note E->\n",
            "        {169.5} <music21.note.Note C>\n",
            "        {171.0} <music21.chord.Chord F#5 F#2 F#3>\n",
            "        {174.0} <music21.note.Note E->\n",
            "        {174.5} <music21.note.Note B->\n",
            "        {175.0} <music21.note.Note C#>\n",
            "        {175.5} <music21.note.Note G#>\n",
            "        {176.0} <music21.note.Note C#>\n",
            "        {176.5} <music21.note.Note F#>\n",
            "        {177.0} <music21.note.Note F>\n",
            "        {177.5} <music21.note.Note C>\n",
            "        {178.25} <music21.note.Note E->\n",
            "        {179.0} <music21.note.Note F#>\n",
            "        {179.5} <music21.note.Note C#>\n",
            "        {180.0} <music21.chord.Chord B-1 B-2>\n",
            "        {181.0} <music21.chord.Chord F1 F2>\n",
            "        {182.0} <music21.chord.Chord G#1 G#2>\n",
            "        {183.0} <music21.chord.Chord F#1 F#2>\n",
            "        {186.0} <music21.chord.Chord B-3 C#4>\n",
            "        {189.0} <music21.note.Note B->\n",
            "        {189.5} <music21.note.Note F#>\n",
            "        {190.0} <music21.note.Note C#>\n",
            "        {190.5} <music21.note.Note F>\n",
            "        {191.0} <music21.note.Note B->\n",
            "        {191.5} <music21.note.Note C>\n",
            "        {192.0} <music21.note.Note E->\n",
            "        {192.5} <music21.note.Note C#>\n",
            "        {193.0} <music21.note.Note C>\n",
            "        {193.5} <music21.note.Note C>\n",
            "        {194.0} <music21.note.Note B->\n",
            "        {194.5} <music21.note.Note G#>\n",
            "        {195.0} <music21.note.Note F#>\n",
            "        {198.0} <music21.note.Note E->\n",
            "        {198.5} <music21.note.Note B->\n",
            "        {199.0} <music21.note.Note C#>\n",
            "        {199.5} <music21.note.Note G#>\n",
            "        {200.0} <music21.note.Note C#>\n",
            "        {200.5} <music21.note.Note F#>\n",
            "        {201.0} <music21.note.Note F>\n",
            "        {201.5} <music21.note.Note C>\n",
            "        {202.25} <music21.note.Note E->\n",
            "        {203.0} <music21.note.Note F#>\n",
            "        {203.5} <music21.note.Note C#>\n",
            "        {204.0} <music21.chord.Chord B-1 B-2>\n",
            "        {205.0} <music21.chord.Chord F1 F2>\n",
            "        {206.0} <music21.chord.Chord G#1 G#2>\n",
            "        {211.5} <music21.note.Note F#>\n",
            "        {213.0} <music21.chord.Chord F2 F3>\n",
            "        {214.5} <music21.chord.Chord B-3 C#4 F#4>\n",
            "        {217.5} <music21.chord.Chord F2 F3>\n",
            "        {219.0} <music21.note.Note F>\n",
            "        {219.5} <music21.note.Note C>\n",
            "        {220.0} <music21.note.Note F>\n",
            "        {220.5} <music21.note.Note F>\n",
            "        {221.0} <music21.note.Note C>\n",
            "        {221.5} <music21.note.Note F>\n",
            "        {231.0} <music21.note.Note B->\n",
            "        {231.5} <music21.note.Note C#>\n",
            "        {232.0} <music21.note.Note F>\n",
            "        {232.5} <music21.note.Note G#>\n",
            "        {233.0} <music21.note.Note C>\n",
            "        {233.5} <music21.note.Note F>\n",
            "        {237.0} <music21.note.Note B->\n",
            "        {237.5} <music21.note.Note C#>\n",
            "        {241.5} <music21.note.Note F>\n",
            "        {242.0} <music21.note.Note C>\n",
            "        {242.5} <music21.note.Note F>\n",
            "        {243.0} <music21.note.Note B->\n",
            "        {243.5} <music21.note.Note C#>\n",
            "        {244.5} <music21.note.Note G#>\n",
            "        {245.0} <music21.note.Note C>\n",
            "        {249.0} <music21.note.Note C#>\n",
            "        {249.5} <music21.note.Note G#>\n",
            "        {252.0} <music21.note.Note F>\n",
            "        {252.5} <music21.note.Note C>\n",
            "        {253.0} <music21.note.Note F>\n",
            "        {255.0} <music21.note.Note B->\n",
            "        {255.5} <music21.note.Note C#>\n",
            "        {256.0} <music21.note.Note F>\n",
            "        {256.5} <music21.note.Note G#>\n",
            "        {257.0} <music21.note.Note C>\n",
            "        {257.5} <music21.note.Note F>\n",
            "        {261.0} <music21.note.Note B->\n",
            "        {261.5} <music21.note.Note C#>\n",
            "        {264.0} <music21.note.Note F#>\n",
            "        {267.0} <music21.note.Note B->\n",
            "        {267.5} <music21.note.Note C#>\n",
            "        {270.0} <music21.note.Note F#>\n",
            "        {276.0} <music21.note.Note F#>\n",
            "        {279.0} <music21.chord.Chord E-4 E4 G#4>\n",
            "        {280.5} <music21.note.Note E->\n",
            "        {282.0} <music21.note.Note C#>\n",
            "        {282.5} <music21.note.Note E>\n",
            "        {283.0} <music21.note.Note F#>\n",
            "        {283.5} <music21.note.Note G#>\n",
            "        {284.0} <music21.note.Note E->\n",
            "        {284.5} <music21.note.Note E->\n",
            "        {285.0} <music21.note.Note C#>\n",
            "        {286.5} <music21.note.Note E->\n",
            "        {288.0} <music21.note.Note C#>\n",
            "        {288.5} <music21.note.Note E>\n",
            "        {289.0} <music21.note.Note F#>\n",
            "        {289.5} <music21.note.Note G#>\n",
            "        {297.0} <music21.note.Note E>\n",
            "        {298.5} <music21.note.Note E->\n",
            "        {300.0} <music21.note.Note C#>\n",
            "        {300.5} <music21.note.Note E>\n",
            "        {301.0} <music21.note.Note F#>\n",
            "        {309.0} <music21.note.Note G#>\n",
            "        {310.0} <music21.note.Note E->\n",
            "        {310.25} <music21.note.Note E>\n",
            "        {310.5} <music21.note.Note F#>\n",
            "        {311.0} <music21.note.Note E>\n",
            "        {311.5} <music21.note.Note E->\n",
            "        {312.0} <music21.note.Note C#>\n",
            "        {313.5} <music21.chord.Chord G#5 G#6>\n",
            "        {314.0} <music21.note.Note E->\n",
            "        {314.5} <music21.note.Note E->\n",
            "        {321.0} <music21.note.Note G#>\n",
            "        {323.5} <music21.note.Note E->\n",
            "        {324.0} <music21.note.Note F#>\n",
            "        {325.0} <music21.note.Note E>\n",
            "        {326.0} <music21.note.Note E->\n",
            "        {327.0} <music21.note.Note A>\n",
            "        {327.5} <music21.note.Note E>\n",
            "        {328.0} <music21.note.Note B>\n",
            "        {328.5} <music21.note.Note C#>\n",
            "        {329.0} <music21.note.Note A>\n",
            "        {329.5} <music21.note.Note E>\n",
            "        {333.0} <music21.chord.Chord C#4 E4 G#4>\n",
            "        {334.5} <music21.chord.Chord B3 E4 G#4>\n",
            "        {336.0} <music21.chord.Chord A3 E4 G#4>\n",
            "        {337.5} <music21.chord.Chord G#3 E-4 G#4>\n",
            "        {339.0} <music21.chord.Chord C#4 G#4 E4>\n",
            "        {340.5} <music21.chord.Chord B3 E4 G#4>\n",
            "        {342.0} <music21.chord.Chord A3 E4 G#4>\n",
            "        {343.5} <music21.chord.Chord G#3 E-4 G#4>\n",
            "        {345.0} <music21.note.Note C#>\n",
            "        {345.5} <music21.note.Note E>\n",
            "        {346.0} <music21.note.Note G#>\n",
            "        {346.5} <music21.note.Note B>\n",
            "        {347.0} <music21.note.Note E->\n",
            "        {347.5} <music21.note.Note G#>\n",
            "        {351.0} <music21.note.Note C#>\n",
            "        {351.5} <music21.note.Note E>\n",
            "        {352.0} <music21.note.Note G#>\n",
            "        {352.5} <music21.note.Note B>\n",
            "        {353.0} <music21.note.Note E->\n",
            "        {353.5} <music21.note.Note G#>\n",
            "        {357.0} <music21.note.Note C#>\n",
            "        {357.5} <music21.note.Note E>\n",
            "        {358.0} <music21.note.Note G#>\n",
            "        {358.5} <music21.note.Note A>\n",
            "        {359.0} <music21.note.Note C#>\n",
            "        {359.5} <music21.note.Note G>\n",
            "        {363.0} <music21.note.Note C#>\n",
            "        {363.5} <music21.note.Note E>\n",
            "        {364.0} <music21.note.Note G#>\n",
            "        {364.5} <music21.note.Note A>\n",
            "        {365.0} <music21.note.Note C#>\n",
            "        {365.5} <music21.note.Note G>\n",
            "        {379.5} <music21.note.Note C>\n",
            "        {380.0} <music21.note.Note E->\n",
            "        {380.5} <music21.note.Note G>\n",
            "        {381.0} <music21.note.Note B->\n",
            "        {381.5} <music21.note.Note D>\n",
            "        {382.0} <music21.note.Note G>\n",
            "        {385.5} <music21.note.Note C>\n",
            "        {386.0} <music21.note.Note E->\n",
            "        {390.0} <music21.note.Note G>\n",
            "        {390.5} <music21.note.Note D>\n",
            "        {391.0} <music21.note.Note G>\n",
            "        {391.5} <music21.note.Note C>\n",
            "        {392.0} <music21.note.Note E->\n",
            "        {393.0} <music21.note.Note B->\n",
            "        {393.5} <music21.note.Note D>\n",
            "        {397.5} <music21.note.Note E->\n",
            "        {398.0} <music21.note.Note B->\n",
            "        {400.5} <music21.note.Note G>\n",
            "        {401.0} <music21.note.Note D>\n",
            "        {401.5} <music21.note.Note G>\n",
            "        {403.5} <music21.note.Note C>\n",
            "        {404.0} <music21.note.Note E->\n",
            "        {404.5} <music21.note.Note G>\n",
            "        {405.0} <music21.note.Note B->\n",
            "        {405.5} <music21.note.Note D>\n",
            "        {406.0} <music21.note.Note G>\n",
            "        {409.5} <music21.note.Note C>\n",
            "        {410.0} <music21.note.Note E->\n",
            "        {414.0} <music21.note.Note G>\n",
            "        {414.5} <music21.note.Note D>\n",
            "        {415.0} <music21.note.Note G>\n",
            "        {415.5} <music21.note.Note G>\n",
            "        {416.0} <music21.note.Note D>\n",
            "        {420.0} <music21.note.Note A>\n",
            "        {420.5} <music21.note.Note D>\n",
            "        {421.0} <music21.note.Note G>\n",
            "        {421.5} <music21.note.Note G#>\n",
            "        {422.0} <music21.note.Note C>\n",
            "        {422.5} <music21.note.Note G>\n",
            "        {424.5} <music21.note.Note C>\n",
            "        {425.0} <music21.note.Note G>\n",
            "        {425.5} <music21.note.Note E->\n",
            "        {430.5} <music21.note.Note E->\n",
            "        {432.0} <music21.note.Note D>\n",
            "        {433.5} <music21.chord.Chord C5 G#2>\n",
            "        {434.0} <music21.chord.Chord E-5 E-3>\n",
            "        {434.5} <music21.chord.Chord F5 C4>\n",
            "        {435.0} <music21.chord.Chord G5 B-2>\n",
            "        {435.5} <music21.chord.Chord D5 G3>\n",
            "        {436.0} <music21.chord.Chord D5 D4>\n",
            "        {436.5} <music21.note.Note E->\n",
            "        {437.5} <music21.chord.Chord E-5 C4>\n",
            "        {438.0} <music21.chord.Chord D5 B-2>\n",
            "        {438.5} <music21.chord.Chord E-5 G3>\n",
            "        {439.0} <music21.chord.Chord D5 D4>\n",
            "        {439.5} <music21.chord.Chord C5 G#2>\n",
            "        {440.0} <music21.chord.Chord E-5 E-3>\n",
            "        {440.5} <music21.chord.Chord F5 C4>\n",
            "        {441.0} <music21.note.Note G>\n",
            "        {441.5} <music21.note.Note D>\n",
            "        {442.0} <music21.note.Note G>\n",
            "        {442.5} <music21.note.Note E->\n",
            "        {444.0} <music21.note.Note D>\n",
            "        {445.5} <music21.chord.Chord C5 G#2>\n",
            "        {446.0} <music21.chord.Chord D5 E-3>\n",
            "        {446.5} <music21.chord.Chord E-5 C4>\n",
            "        {447.0} <music21.chord.Chord F5 F2>\n",
            "        {447.5} <music21.chord.Chord G5 C3>\n",
            "        {448.0} <music21.chord.Chord A5 F3>\n",
            "        {448.5} <music21.note.Note E->\n",
            "        {449.0} <music21.note.Note B->\n",
            "        {451.5} <music21.note.Note G>\n",
            "        {452.0} <music21.note.Note G>\n",
            "        {452.5} <music21.chord.Chord E-4 C4>\n",
            "        {453.0} <music21.note.Note B>\n",
            "        {454.5} <music21.note.Note E->\n",
            "        {456.0} <music21.note.Note D>\n",
            "        {457.5} <music21.chord.Chord C5 G#2>\n",
            "        {458.0} <music21.chord.Chord E-5 E-3>\n",
            "        {458.5} <music21.chord.Chord F5 C4>\n",
            "        {459.0} <music21.chord.Chord G5 B-2>\n",
            "        {459.5} <music21.chord.Chord D5 G3>\n",
            "        {460.0} <music21.chord.Chord D5 D4>\n",
            "        {460.5} <music21.note.Note E->\n",
            "        {461.5} <music21.chord.Chord E-5 C4>\n",
            "        {462.0} <music21.chord.Chord D5 B-2>\n",
            "        {462.5} <music21.chord.Chord E-5 G3>\n",
            "        {463.0} <music21.chord.Chord D5 D4>\n",
            "        {463.5} <music21.chord.Chord C5 G#2>\n",
            "        {464.0} <music21.chord.Chord E-5 E-3>\n",
            "        {464.5} <music21.chord.Chord F5 C4>\n",
            "        {465.0} <music21.note.Note G>\n",
            "        {465.5} <music21.note.Note D>\n",
            "        {466.0} <music21.note.Note G>\n",
            "        {466.5} <music21.note.Note B->\n",
            "        {467.5} <music21.note.Note B->\n",
            "        {468.0} <music21.note.Note A>\n",
            "        {468.5} <music21.note.Note B->\n",
            "        {469.0} <music21.note.Note A>\n",
            "        {469.5} <music21.chord.Chord B-2 E-3 B-3 B-4 G4>\n",
            "        {471.0} <music21.note.Note D>\n",
            "        {472.0} <music21.note.Note E->\n",
            "        {472.25} <music21.note.Note F>\n",
            "        {472.5} <music21.chord.Chord G#2 E-3 C4>\n",
            "        {474.0} <music21.chord.Chord D4 F4 B-4>\n",
            "        {505.5} <music21.note.Note F>\n",
            "        {505.6667} <music21.note.Note E->\n",
            "        {505.75} <music21.chord.Chord C1 C2 C3>\n",
            "    {0.0} <music21.stream.Voice 0x7f0b3afe57b8>\n",
            "        {0.0} <music21.note.Rest rest>\n",
            "        {172.5} <music21.note.Note E->\n",
            "        {172.5} <music21.note.Rest rest>\n",
            "        {177.75} <music21.note.Note C#>\n",
            "        {178.5} <music21.note.Note F>\n",
            "        {186.0} <music21.note.Note G#>\n",
            "        {187.5} <music21.note.Note F#>\n",
            "        {196.5} <music21.note.Note E->\n",
            "        {201.75} <music21.note.Note C#>\n",
            "        {202.5} <music21.note.Note F>\n",
            "        {283.5} <music21.chord.Chord F#3 C#4>\n",
            "        {300.0} <music21.note.Note B>\n",
            "        {301.25} <music21.note.Note C#>\n",
            "        {309.0} <music21.note.Note A>\n",
            "        {309.75} <music21.note.Note B>\n",
            "        {321.0} <music21.note.Note F#>\n",
            "        {321.5} <music21.note.Note E>\n",
            "        {322.0} <music21.note.Note G#>\n",
            "        {322.5} <music21.note.Note F#>\n",
            "        {323.0} <music21.note.Note A>\n",
            "        {323.5} <music21.note.Note E>\n",
            "        {324.0} <music21.note.Note G#>\n",
            "        {325.5} <music21.note.Note G#>\n",
            "        {430.5} <music21.note.Note C>\n",
            "        {431.0} <music21.note.Note G>\n",
            "        {431.5} <music21.note.Note C>\n",
            "        {432.0} <music21.note.Note B->\n",
            "        {432.5} <music21.note.Note G>\n",
            "        {433.0} <music21.note.Note D>\n",
            "        {436.5} <music21.note.Note C>\n",
            "        {437.0} <music21.note.Note G>\n",
            "        {454.5} <music21.note.Note C>\n",
            "        {455.0} <music21.note.Note G>\n",
            "        {455.5} <music21.note.Note C>\n",
            "        {456.0} <music21.note.Note B->\n",
            "        {456.5} <music21.note.Note G>\n",
            "        {457.0} <music21.note.Note D>\n",
            "        {460.5} <music21.note.Note C>\n",
            "        {461.0} <music21.note.Note G>\n",
            "        {469.5} <music21.note.Note E->\n",
            "        {470.5} <music21.note.Rest rest>\n",
            "    {0.0} <music21.stream.Voice 0x7f0b3b00d780>\n",
            "        {196.5} <music21.chord.Chord G#2 F#3>\n",
            "        {284.25} <music21.note.Note E>\n",
            "    {90.0} <music21.meter.TimeSignature 6/8>\n",
            "    {93.0} <music21.meter.TimeSignature 12/8>\n",
            "    {171.0} <music21.key.Key of D- major>\n",
            "    {279.0} <music21.tempo.MetronomeMark animato Quarter=120.0>\n",
            "    {279.0} <music21.key.Key of E major>\n",
            "    {345.0} <music21.tempo.MetronomeMark Quarter=125.0>\n",
            "    {346.5} <music21.tempo.MetronomeMark allegro moderato Quarter=130.0>\n",
            "    {348.0} <music21.tempo.MetronomeMark Quarter=135.0>\n",
            "    {349.5} <music21.tempo.MetronomeMark allegrissimo Quarter=140.0>\n",
            "    {351.0} <music21.tempo.MetronomeMark molto allegro Quarter=145.0>\n",
            "    {352.5} <music21.tempo.MetronomeMark Quarter=150.0>\n",
            "    {354.0} <music21.tempo.MetronomeMark Quarter=155.0>\n",
            "    {355.5} <music21.tempo.MetronomeMark vivace Quarter=160.0>\n",
            "    {357.0} <music21.tempo.MetronomeMark Quarter=165.0>\n",
            "    {358.5} <music21.tempo.MetronomeMark vivacissimo Quarter=170.0>\n",
            "    {360.0} <music21.tempo.MetronomeMark Quarter=175.0>\n",
            "    {361.5} <music21.tempo.MetronomeMark Quarter=180.0>\n",
            "    {363.0} <music21.tempo.MetronomeMark presto Quarter=185.0>\n",
            "    {364.5} <music21.tempo.MetronomeMark Quarter=190.0>\n",
            "    {366.0} <music21.tempo.MetronomeMark Quarter=195.0>\n",
            "    {367.5} <music21.tempo.MetronomeMark Quarter=200.0>\n",
            "    {369.0} <music21.tempo.MetronomeMark Quarter=205.0>\n",
            "    {370.5} <music21.tempo.MetronomeMark prestissimo Quarter=210.0>\n",
            "    {372.0} <music21.tempo.MetronomeMark Quarter=215.0>\n",
            "    {373.5} <music21.tempo.MetronomeMark Quarter=220.0>\n",
            "    {375.0} <music21.tempo.MetronomeMark Quarter=225.0>\n",
            "    {375.0} <music21.meter.TimeSignature 9/8>\n",
            "    {376.5} <music21.tempo.MetronomeMark Quarter=230.0>\n",
            "    {378.0} <music21.tempo.MetronomeMark Quarter=235.0>\n",
            "    {379.5} <music21.tempo.MetronomeMark Quarter=240.0>\n",
            "    {379.5} <music21.key.Key of E- major>\n",
            "    {379.5} <music21.meter.TimeSignature 12/8>\n",
            "    {427.5} <music21.meter.TimeSignature 6/8>\n",
            "    {430.5} <music21.meter.TimeSignature 12/8>\n",
            "    {466.5} <music21.tempo.MetronomeMark Quarter=230.0>\n",
            "    {468.0} <music21.tempo.MetronomeMark Quarter=220.0>\n",
            "    {469.5} <music21.tempo.MetronomeMark prestissimo Quarter=210.0>\n",
            "    {471.0} <music21.tempo.MetronomeMark Quarter=200.0>\n",
            "    {472.5} <music21.tempo.MetronomeMark Quarter=190.0>\n",
            "    {474.0} <music21.tempo.MetronomeMark Quarter=180.0>\n",
            "    {475.5} <music21.tempo.MetronomeMark vivacissimo Quarter=170.0>\n",
            "    {477.0} <music21.tempo.MetronomeMark animato Quarter=120.0>\n",
            "    {480.0} <music21.tempo.MetronomeMark Quarter=240.0>\n"
          ],
          "name": "stdout"
        }
      ]
    },
    {
      "cell_type": "code",
      "metadata": {
        "id": "mqhiu7HfvqBe",
        "colab_type": "code",
        "colab": {}
      },
      "source": [
        "elements_to_parse = midi.flat.notes"
      ],
      "execution_count": 0,
      "outputs": []
    },
    {
      "cell_type": "code",
      "metadata": {
        "id": "C7nTwn95wEAM",
        "colab_type": "code",
        "colab": {}
      },
      "source": [
        "notes_demo = []\n",
        "\n",
        "for ele in elements_to_parse:\n",
        "    \n",
        "    # If the element is a note, then store its pitch\n",
        "    if isinstance(ele,note.Note):\n",
        "        notes_demo.append(str(ele.pitch))\n",
        "    \n",
        "    # If the element is a chord,split each note of chord and join them with a '+'\n",
        "    elif isinstance(ele,chord.Chord):\n",
        "        notes_demo.append(\"+\".join(str(n) for n in ele.normalOrder)) \n",
        "    "
      ],
      "execution_count": 0,
      "outputs": []
    },
    {
      "cell_type": "code",
      "metadata": {
        "id": "6GEaDMMKwHBn",
        "colab_type": "code",
        "colab": {}
      },
      "source": [
        "notes_demo"
      ],
      "execution_count": 0,
      "outputs": []
    },
    {
      "cell_type": "code",
      "metadata": {
        "id": "LhNhi0KYwN_L",
        "colab_type": "code",
        "outputId": "12ba5e26-7ba3-46dd-9ef2-b320a9cad78a",
        "colab": {
          "base_uri": "https://localhost:8080/",
          "height": 34
        }
      },
      "source": [
        "len(notes_demo)"
      ],
      "execution_count": 10,
      "outputs": [
        {
          "output_type": "execute_result",
          "data": {
            "text/plain": [
              "1123"
            ]
          },
          "metadata": {
            "tags": []
          },
          "execution_count": 10
        }
      ]
    },
    {
      "cell_type": "markdown",
      "metadata": {
        "id": "mVMj70_GwVUZ",
        "colab_type": "text"
      },
      "source": [
        "## Preprocessing all Files"
      ]
    },
    {
      "cell_type": "code",
      "metadata": {
        "id": "iJgaqmRIwR5h",
        "colab_type": "code",
        "outputId": "97037ac3-26f5-47d7-a7e3-7d8f7b0d4ab0",
        "colab": {
          "base_uri": "https://localhost:8080/",
          "height": 1000
        }
      },
      "source": [
        "notes = []\n",
        "folder_name = \"/content/drive/My Drive/Colab Notebooks/midi_songs/midi_songs/*.mid\"\n",
        "\n",
        "for file in glob.glob(folder_name):\n",
        "    midi = converter.parse(file)\n",
        "    \n",
        "    print(\"parsing %s\"%file)\n",
        "    \n",
        "    elements_to_parse = midi.flat.notes\n",
        "    \n",
        "    for ele in elements_to_parse:\n",
        "    \n",
        "        # If the element is a note, then store its pitch\n",
        "        if isinstance(ele,note.Note):\n",
        "            notes.append(str(ele.pitch))\n",
        "\n",
        "        # If the element is a chord,split each note of chord and join them with a '+'\n",
        "        elif isinstance(ele,chord.Chord):\n",
        "            notes.append(\"+\".join(str(n) for n in ele.normalOrder)) \n",
        "    \n",
        "     "
      ],
      "execution_count": 11,
      "outputs": [
        {
          "output_type": "stream",
          "text": [
            "parsing /content/drive/My Drive/Colab Notebooks/midi_songs/midi_songs/FFX_-_Ending_Theme_(Piano_Version)_-_by_Angel_FF.mid\n",
            "parsing /content/drive/My Drive/Colab Notebooks/midi_songs/midi_songs/dontbeafraid.mid\n",
            "parsing /content/drive/My Drive/Colab Notebooks/midi_songs/midi_songs/fortresscondor.mid\n",
            "parsing /content/drive/My Drive/Colab Notebooks/midi_songs/midi_songs/ahead_on_our_way_piano.mid\n",
            "parsing /content/drive/My Drive/Colab Notebooks/midi_songs/midi_songs/FF6epitaph_piano.mid\n",
            "parsing /content/drive/My Drive/Colab Notebooks/midi_songs/midi_songs/goldsaucer.mid\n",
            "parsing /content/drive/My Drive/Colab Notebooks/midi_songs/midi_songs/Ff7-One_Winged.mid\n",
            "parsing /content/drive/My Drive/Colab Notebooks/midi_songs/midi_songs/Still_Alive-1.mid\n",
            "parsing /content/drive/My Drive/Colab Notebooks/midi_songs/midi_songs/waltz_de_choco.mid\n",
            "parsing /content/drive/My Drive/Colab Notebooks/midi_songs/midi_songs/HighwindTakestotheSkies.mid\n",
            "parsing /content/drive/My Drive/Colab Notebooks/midi_songs/midi_songs/relmstheme-piano.mid\n",
            "parsing /content/drive/My Drive/Colab Notebooks/midi_songs/midi_songs/ff6shap.mid\n",
            "parsing /content/drive/My Drive/Colab Notebooks/midi_songs/midi_songs/braska.mid\n",
            "parsing /content/drive/My Drive/Colab Notebooks/midi_songs/midi_songs/costadsol.mid\n",
            "parsing /content/drive/My Drive/Colab Notebooks/midi_songs/midi_songs/ff4-airship.mid\n",
            "parsing /content/drive/My Drive/Colab Notebooks/midi_songs/midi_songs/lurk_in_dark.mid\n",
            "parsing /content/drive/My Drive/Colab Notebooks/midi_songs/midi_songs/ff7-mainmidi.mid\n",
            "parsing /content/drive/My Drive/Colab Notebooks/midi_songs/midi_songs/JENOVA.mid\n",
            "parsing /content/drive/My Drive/Colab Notebooks/midi_songs/midi_songs/OTD5YA.mid\n",
            "parsing /content/drive/My Drive/Colab Notebooks/midi_songs/midi_songs/ultros.mid\n",
            "parsing /content/drive/My Drive/Colab Notebooks/midi_songs/midi_songs/FF4.mid\n",
            "parsing /content/drive/My Drive/Colab Notebooks/midi_songs/midi_songs/cosmo.mid\n",
            "parsing /content/drive/My Drive/Colab Notebooks/midi_songs/midi_songs/decisive.mid\n",
            "parsing /content/drive/My Drive/Colab Notebooks/midi_songs/midi_songs/ff4_piano_collections-main_theme.mid\n",
            "parsing /content/drive/My Drive/Colab Notebooks/midi_songs/midi_songs/ViviinAlexandria.mid\n",
            "parsing /content/drive/My Drive/Colab Notebooks/midi_songs/midi_songs/Eternal_Harvest.mid\n",
            "parsing /content/drive/My Drive/Colab Notebooks/midi_songs/midi_songs/ff4pclov.mid\n",
            "parsing /content/drive/My Drive/Colab Notebooks/midi_songs/midi_songs/figaro.mid\n",
            "parsing /content/drive/My Drive/Colab Notebooks/midi_songs/midi_songs/ff8-lfp.mid\n",
            "parsing /content/drive/My Drive/Colab Notebooks/midi_songs/midi_songs/FF3_Third_Phase_Final_(Piano).mid\n",
            "parsing /content/drive/My Drive/Colab Notebooks/midi_songs/midi_songs/ff4-fight1.mid\n",
            "parsing /content/drive/My Drive/Colab Notebooks/midi_songs/midi_songs/tifap.mid\n",
            "parsing /content/drive/My Drive/Colab Notebooks/midi_songs/midi_songs/roseofmay-piano.mid\n",
            "parsing /content/drive/My Drive/Colab Notebooks/midi_songs/midi_songs/Final_Fantasy_Matouyas_Cave_Piano.mid\n",
            "parsing /content/drive/My Drive/Colab Notebooks/midi_songs/midi_songs/FF3_Battle_(Piano).mid\n",
            "parsing /content/drive/My Drive/Colab Notebooks/midi_songs/midi_songs/z_aeristhemepiano.mid\n",
            "parsing /content/drive/My Drive/Colab Notebooks/midi_songs/midi_songs/Finalfantasy6fanfarecomplete.mid\n",
            "parsing /content/drive/My Drive/Colab Notebooks/midi_songs/midi_songs/Life_Stream.mid\n",
            "parsing /content/drive/My Drive/Colab Notebooks/midi_songs/midi_songs/path_of_repentance.mid\n",
            "parsing /content/drive/My Drive/Colab Notebooks/midi_songs/midi_songs/thoughts.mid\n",
            "parsing /content/drive/My Drive/Colab Notebooks/midi_songs/midi_songs/mining.mid\n",
            "parsing /content/drive/My Drive/Colab Notebooks/midi_songs/midi_songs/great_war.mid\n",
            "parsing /content/drive/My Drive/Colab Notebooks/midi_songs/midi_songs/Suteki_Da_Ne_(Piano_Version).mid\n",
            "parsing /content/drive/My Drive/Colab Notebooks/midi_songs/midi_songs/Zelda_Overworld.mid\n",
            "parsing /content/drive/My Drive/Colab Notebooks/midi_songs/midi_songs/FFIII_Edgar_And_Sabin_Piano.mid\n",
            "parsing /content/drive/My Drive/Colab Notebooks/midi_songs/midi_songs/electric_de_chocobo.mid\n",
            "parsing /content/drive/My Drive/Colab Notebooks/midi_songs/midi_songs/EyesOnMePiano.mid\n",
            "parsing /content/drive/My Drive/Colab Notebooks/midi_songs/midi_songs/Kingdom_Hearts_Traverse_Town.mid\n",
            "parsing /content/drive/My Drive/Colab Notebooks/midi_songs/midi_songs/balamb.mid\n",
            "parsing /content/drive/My Drive/Colab Notebooks/midi_songs/midi_songs/rufus.mid\n",
            "parsing /content/drive/My Drive/Colab Notebooks/midi_songs/midi_songs/thenightmarebegins.mid\n",
            "parsing /content/drive/My Drive/Colab Notebooks/midi_songs/midi_songs/Fierce_Battle_(Piano).mid\n",
            "parsing /content/drive/My Drive/Colab Notebooks/midi_songs/midi_songs/Rydia_pc.mid\n",
            "parsing /content/drive/My Drive/Colab Notebooks/midi_songs/midi_songs/VincentPiano.mid\n",
            "parsing /content/drive/My Drive/Colab Notebooks/midi_songs/midi_songs/sobf.mid\n",
            "parsing /content/drive/My Drive/Colab Notebooks/midi_songs/midi_songs/Ff4-BattleLust.mid\n",
            "parsing /content/drive/My Drive/Colab Notebooks/midi_songs/midi_songs/BlueStone_LastDungeon.mid\n",
            "parsing /content/drive/My Drive/Colab Notebooks/midi_songs/midi_songs/AT.mid\n",
            "parsing /content/drive/My Drive/Colab Notebooks/midi_songs/midi_songs/caitsith.mid\n",
            "parsing /content/drive/My Drive/Colab Notebooks/midi_songs/midi_songs/Fyw_piano.mid\n",
            "parsing /content/drive/My Drive/Colab Notebooks/midi_songs/midi_songs/Cids.mid\n",
            "parsing /content/drive/My Drive/Colab Notebooks/midi_songs/midi_songs/ff7themep.mid\n",
            "parsing /content/drive/My Drive/Colab Notebooks/midi_songs/midi_songs/0fithos.mid\n",
            "parsing /content/drive/My Drive/Colab Notebooks/midi_songs/midi_songs/sera_.mid\n",
            "parsing /content/drive/My Drive/Colab Notebooks/midi_songs/midi_songs/8.mid\n",
            "parsing /content/drive/My Drive/Colab Notebooks/midi_songs/midi_songs/gerudo.mid\n",
            "parsing /content/drive/My Drive/Colab Notebooks/midi_songs/midi_songs/DOS.mid\n",
            "parsing /content/drive/My Drive/Colab Notebooks/midi_songs/midi_songs/pkelite4.mid\n",
            "parsing /content/drive/My Drive/Colab Notebooks/midi_songs/midi_songs/FFVII_BATTLE.mid\n",
            "parsing /content/drive/My Drive/Colab Notebooks/midi_songs/midi_songs/Gold_Silver_Rival_Battle.mid\n",
            "parsing /content/drive/My Drive/Colab Notebooks/midi_songs/midi_songs/Final_Fantasy_7_-_Judgement_Day_Piano.mid\n",
            "parsing /content/drive/My Drive/Colab Notebooks/midi_songs/midi_songs/Ff7-Cinco.mid\n",
            "parsing /content/drive/My Drive/Colab Notebooks/midi_songs/midi_songs/Fiend_Battle_(Piano).mid\n",
            "parsing /content/drive/My Drive/Colab Notebooks/midi_songs/midi_songs/redwings.mid\n",
            "parsing /content/drive/My Drive/Colab Notebooks/midi_songs/midi_songs/ff4-town.mid\n",
            "parsing /content/drive/My Drive/Colab Notebooks/midi_songs/midi_songs/ff11_awakening_piano.mid\n",
            "parsing /content/drive/My Drive/Colab Notebooks/midi_songs/midi_songs/bcm.mid\n",
            "parsing /content/drive/My Drive/Colab Notebooks/midi_songs/midi_songs/FFIX_Piano.mid\n",
            "parsing /content/drive/My Drive/Colab Notebooks/midi_songs/midi_songs/Kingdom_Hearts_Dearly_Beloved.mid\n",
            "parsing /content/drive/My Drive/Colab Notebooks/midi_songs/midi_songs/Finalfantasy5gilgameshp.mid\n",
            "parsing /content/drive/My Drive/Colab Notebooks/midi_songs/midi_songs/ff1battp.mid\n",
            "parsing /content/drive/My Drive/Colab Notebooks/midi_songs/midi_songs/sandy.mid\n",
            "parsing /content/drive/My Drive/Colab Notebooks/midi_songs/midi_songs/traitor.mid\n",
            "parsing /content/drive/My Drive/Colab Notebooks/midi_songs/midi_songs/ultimafro.mid\n",
            "parsing /content/drive/My Drive/Colab Notebooks/midi_songs/midi_songs/FFIXQuMarshP.mid\n",
            "parsing /content/drive/My Drive/Colab Notebooks/midi_songs/midi_songs/Ff7-Jenova_Absolute.mid\n",
            "parsing /content/drive/My Drive/Colab Notebooks/midi_songs/midi_songs/In_Zanarkand.mid\n",
            "parsing /content/drive/My Drive/Colab Notebooks/midi_songs/midi_songs/dayafter.mid\n",
            "parsing /content/drive/My Drive/Colab Notebooks/midi_songs/midi_songs/tpirtsd-piano.mid\n",
            "parsing /content/drive/My Drive/Colab Notebooks/midi_songs/midi_songs/Rachel_Piano_tempofix.mid\n",
            "parsing /content/drive/My Drive/Colab Notebooks/midi_songs/midi_songs/FF8_Shuffle_or_boogie_pc.mid\n",
            "parsing /content/drive/My Drive/Colab Notebooks/midi_songs/midi_songs/Oppressed.mid\n"
          ],
          "name": "stdout"
        }
      ]
    },
    {
      "cell_type": "code",
      "metadata": {
        "id": "uZUFn0oYwklB",
        "colab_type": "code",
        "outputId": "f877f67c-de7b-4678-98a1-535aef41a5ef",
        "colab": {
          "base_uri": "https://localhost:8080/",
          "height": 34
        }
      },
      "source": [
        "len(notes)"
      ],
      "execution_count": 12,
      "outputs": [
        {
          "output_type": "execute_result",
          "data": {
            "text/plain": [
              "60498"
            ]
          },
          "metadata": {
            "tags": []
          },
          "execution_count": 12
        }
      ]
    },
    {
      "cell_type": "code",
      "metadata": {
        "id": "eq3zwkz2wpNE",
        "colab_type": "code",
        "colab": {}
      },
      "source": [
        "with open(\"notes\",\"wb\") as file_path:\n",
        "    pickle.dump(notes,file_path)"
      ],
      "execution_count": 0,
      "outputs": []
    },
    {
      "cell_type": "code",
      "metadata": {
        "id": "u4ayd0Q_wpPs",
        "colab_type": "code",
        "colab": {}
      },
      "source": [
        "with open(\"notes\",\"rb\") as f:\n",
        "    notes = pickle.load(f)"
      ],
      "execution_count": 0,
      "outputs": []
    },
    {
      "cell_type": "code",
      "metadata": {
        "id": "q9RzUZACwpSv",
        "colab_type": "code",
        "outputId": "314a4c0f-fc81-4c25-fa85-6a3ade6d4350",
        "colab": {
          "base_uri": "https://localhost:8080/",
          "height": 51
        }
      },
      "source": [
        "n_vocab = len(set(notes))\n",
        "print(\"Total note : \",len(notes))\n",
        "print(\"Unique notes : \",n_vocab)"
      ],
      "execution_count": 15,
      "outputs": [
        {
          "output_type": "stream",
          "text": [
            "Total note :  60498\n",
            "Unique notes :  359\n"
          ],
          "name": "stdout"
        }
      ]
    },
    {
      "cell_type": "code",
      "metadata": {
        "id": "DrVdjkSLwpXo",
        "colab_type": "code",
        "outputId": "b18a3f7c-e791-468a-bb75-e078104d8de8",
        "colab": {
          "base_uri": "https://localhost:8080/",
          "height": 54
        }
      },
      "source": [
        "print(notes[:150])"
      ],
      "execution_count": 16,
      "outputs": [
        {
          "output_type": "stream",
          "text": [
            "['E5', 'E4', 'G4', 'C5', 'B4', 'B3', 'F#4', 'A4', 'G4', 'G3', 'C4', 'F#4', 'E4', 'E3', 'G3', 'C4', '7+11', 'E4', 'E3', 'G3', 'A4', 'C4', 'G4', 'B3', 'B2', 'F#3', 'F#4', 'A3', 'E4', 'G3', 'G2', 'C3', 'F#3', 'E3', '11+4', '11+4', '6', '11+4', '11+4', '3', '10+3', 'F#2', 'B-2', '3', 'E-2', 'E-2', 'E-2', 'E-2', 'E-2', '3', 'E-2', '10+3', '5', '3', '10+3', '2', '9+2', 'E5', 'E3', 'E4', 'G4', 'C5', 'B4', 'B3', 'F#4', 'A4', 'G4', 'G3', 'C4', 'F#4', 'E4', 'E3', 'G3', 'C4', 'E2', 'B2', 'E4', 'E3', 'G4', 'F#4', '9+2', 'D2', 'A2', 'F#3', 'A2', 'D3', 'A2', 'C2', 'G2', 'A4', 'C3', 'G4', 'A4', 'B4', '11+4', 'E2', 'B2', 'G3', 'B2', 'E3', 'B2', 'G2', 'D3', '7+11', 'G3', 'D3', '9+1', 'A2', 'E3', 'A4', 'A3', 'E3', '11+3+6', 'B2', 'F#3', 'B3', 'F#3', 'B3', 'F#3', 'F#4', 'B3', 'F#3', '9+0+4', 'A2', 'E3', 'A4', 'A3', 'E3', 'G4', 'A3', 'E3', 'A4', 'A3', 'B4', 'E3', '11+4', 'E2', 'B2', 'E3', 'B2', 'E3', 'B2', 'E3', 'B2', '11+4', '11+4', '1+6', '6+11', '7+11+2', '2+7']\n"
          ],
          "name": "stdout"
        }
      ]
    },
    {
      "cell_type": "markdown",
      "metadata": {
        "id": "fnwvmaEjwxUR",
        "colab_type": "text"
      },
      "source": [
        "## Preparing Sequential Data for LSTM"
      ]
    },
    {
      "cell_type": "code",
      "metadata": {
        "id": "bvh2IPBlwpWG",
        "colab_type": "code",
        "colab": {}
      },
      "source": [
        "# How many elements should LSTM input consider\n",
        "sequence_length = 100"
      ],
      "execution_count": 0,
      "outputs": []
    },
    {
      "cell_type": "code",
      "metadata": {
        "id": "xtvKyS9fw3Rq",
        "colab_type": "code",
        "colab": {}
      },
      "source": [
        "pitchnames = sorted(set(notes))"
      ],
      "execution_count": 0,
      "outputs": []
    },
    {
      "cell_type": "code",
      "metadata": {
        "id": "TbAojAXqw3Uc",
        "colab_type": "code",
        "colab": {}
      },
      "source": [
        "#Mapping between element to int value\n",
        "\n",
        "ele_to_int = dict((ele,num) for num,ele in enumerate(pitchnames))\n",
        "\n",
        "network_in = []\n",
        "network_out = []\n",
        "\n",
        "for i in range(len(notes)-sequence_length):\n",
        "    seq_in = notes[i:i+sequence_length]\n",
        "    seq_out = notes[i+sequence_length]\n",
        "    network_in.append([ele_to_int[ch] for ch in seq_in])\n",
        "    network_out.append(ele_to_int[seq_out])    "
      ],
      "execution_count": 0,
      "outputs": []
    },
    {
      "cell_type": "code",
      "metadata": {
        "id": "XhGoV0fuw3XY",
        "colab_type": "code",
        "outputId": "825e41e2-faa5-45cd-8f1d-bc06c731d501",
        "colab": {
          "base_uri": "https://localhost:8080/",
          "height": 34
        }
      },
      "source": [
        "len(network_in[0]),network_out[0]"
      ],
      "execution_count": 20,
      "outputs": [
        {
          "output_type": "execute_result",
          "data": {
            "text/plain": [
              "(100, 297)"
            ]
          },
          "metadata": {
            "tags": []
          },
          "execution_count": 20
        }
      ]
    },
    {
      "cell_type": "code",
      "metadata": {
        "id": "kredhHZrw3ah",
        "colab_type": "code",
        "outputId": "73a8b53d-a273-4870-8604-4c6cd2588263",
        "colab": {
          "base_uri": "https://localhost:8080/",
          "height": 34
        }
      },
      "source": [
        "# No. of examples\n",
        "n_patterns = len(network_in)\n",
        "print(n_patterns)"
      ],
      "execution_count": 21,
      "outputs": [
        {
          "output_type": "stream",
          "text": [
            "60398\n"
          ],
          "name": "stdout"
        }
      ]
    },
    {
      "cell_type": "code",
      "metadata": {
        "id": "0Drt-UXFw3dw",
        "colab_type": "code",
        "outputId": "27cc49ed-f43d-483d-e4ea-4f21c90e46b6",
        "colab": {
          "base_uri": "https://localhost:8080/",
          "height": 34
        }
      },
      "source": [
        "#1 is because LSTM accepsts data in 3D\n",
        "network_in = np.reshape(network_in,(n_patterns,sequence_length,1))\n",
        "print(network_in.shape)"
      ],
      "execution_count": 22,
      "outputs": [
        {
          "output_type": "stream",
          "text": [
            "(60398, 100, 1)\n"
          ],
          "name": "stdout"
        }
      ]
    },
    {
      "cell_type": "code",
      "metadata": {
        "id": "XA21dG48xGn6",
        "colab_type": "code",
        "colab": {}
      },
      "source": [
        "# Normalising Data\n",
        "\n",
        "normalised_network_in = network_in/float(n_vocab)"
      ],
      "execution_count": 0,
      "outputs": []
    },
    {
      "cell_type": "code",
      "metadata": {
        "id": "nyNRNxmnxGq9",
        "colab_type": "code",
        "colab": {}
      },
      "source": [
        "#Network outputs are classes, encode into one hot vector\n",
        "\n",
        "network_out = np_utils.to_categorical(network_out)"
      ],
      "execution_count": 0,
      "outputs": []
    },
    {
      "cell_type": "code",
      "metadata": {
        "id": "v5h3LbYixGv6",
        "colab_type": "code",
        "outputId": "cf1d7e60-0410-41a8-9365-4745cfd0faaa",
        "colab": {
          "base_uri": "https://localhost:8080/",
          "height": 51
        }
      },
      "source": [
        "print(network_in.shape)\n",
        "print(network_out.shape)"
      ],
      "execution_count": 25,
      "outputs": [
        {
          "output_type": "stream",
          "text": [
            "(60398, 100, 1)\n",
            "(60398, 359)\n"
          ],
          "name": "stdout"
        }
      ]
    },
    {
      "cell_type": "markdown",
      "metadata": {
        "id": "ZZ_eZbeRxTJh",
        "colab_type": "text"
      },
      "source": [
        "## Create Model"
      ]
    },
    {
      "cell_type": "code",
      "metadata": {
        "id": "FrVxby1wxGud",
        "colab_type": "code",
        "colab": {}
      },
      "source": [
        "import tensorflow as tf\n",
        "\n",
        "tf.compat.v1.disable_eager_execution()\n",
        "\n",
        "from tensorflow.python.keras.layers import *\n",
        "from tensorflow.python.keras.models import Sequential,load_model\n",
        "from tensorflow.python.keras.callbacks import ModelCheckpoint, EarlyStopping"
      ],
      "execution_count": 0,
      "outputs": []
    },
    {
      "cell_type": "code",
      "metadata": {
        "id": "u39RZQAmxYDu",
        "colab_type": "code",
        "outputId": "d190e27d-3b04-48af-da2a-e2b6d18a0441",
        "colab": {
          "base_uri": "https://localhost:8080/",
          "height": 547
        }
      },
      "source": [
        "model = Sequential()\n",
        "model.add(LSTM(512,input_shape=(100,1),return_sequences=True))\n",
        "model.add(Dropout(0.3))\n",
        "model.add(LSTM(512,return_sequences=True))\n",
        "model.add(Dropout(0.3))\n",
        "model.add(LSTM(512,return_sequences=False))\n",
        "model.add(Dense(256))\n",
        "model.add(Dropout(0.3))\n",
        "model.add(Dense(n_vocab,activation='softmax'))\n",
        "model.compile(loss='categorical_crossentropy',optimizer='adam')\n",
        "model.summary()\n",
        "\n"
      ],
      "execution_count": 27,
      "outputs": [
        {
          "output_type": "stream",
          "text": [
            "WARNING:tensorflow:Layer lstm will not use cuDNN kernel since it doesn't meet the cuDNN kernel criteria. It will use generic GPU kernel as fallback when running on GPU\n",
            "WARNING:tensorflow:From /usr/local/lib/python3.6/dist-packages/tensorflow/python/ops/resource_variable_ops.py:1666: calling BaseResourceVariable.__init__ (from tensorflow.python.ops.resource_variable_ops) with constraint is deprecated and will be removed in a future version.\n",
            "Instructions for updating:\n",
            "If using Keras pass *_constraint arguments to layers.\n",
            "WARNING:tensorflow:Layer lstm_1 will not use cuDNN kernel since it doesn't meet the cuDNN kernel criteria. It will use generic GPU kernel as fallback when running on GPU\n",
            "WARNING:tensorflow:Layer lstm_2 will not use cuDNN kernel since it doesn't meet the cuDNN kernel criteria. It will use generic GPU kernel as fallback when running on GPU\n",
            "Model: \"sequential\"\n",
            "_________________________________________________________________\n",
            "Layer (type)                 Output Shape              Param #   \n",
            "=================================================================\n",
            "lstm (LSTM)                  (None, 100, 512)          1052672   \n",
            "_________________________________________________________________\n",
            "dropout (Dropout)            (None, 100, 512)          0         \n",
            "_________________________________________________________________\n",
            "lstm_1 (LSTM)                (None, 100, 512)          2099200   \n",
            "_________________________________________________________________\n",
            "dropout_1 (Dropout)          (None, 100, 512)          0         \n",
            "_________________________________________________________________\n",
            "lstm_2 (LSTM)                (None, 512)               2099200   \n",
            "_________________________________________________________________\n",
            "dense (Dense)                (None, 256)               131328    \n",
            "_________________________________________________________________\n",
            "dropout_2 (Dropout)          (None, 256)               0         \n",
            "_________________________________________________________________\n",
            "dense_1 (Dense)              (None, 359)               92263     \n",
            "=================================================================\n",
            "Total params: 5,474,663\n",
            "Trainable params: 5,474,663\n",
            "Non-trainable params: 0\n",
            "_________________________________________________________________\n"
          ],
          "name": "stdout"
        }
      ]
    },
    {
      "cell_type": "code",
      "metadata": {
        "id": "OQRmX40xxapN",
        "colab_type": "code",
        "colab": {}
      },
      "source": [
        "#checkpoint = ModelCheckpoint(\"model.hdf5\",monitor='loss',verbose=0,save_best_only=True,mode='min')\n",
        "\n",
        "#model_his = model.fit(normalised_network_in,network_out,epochs=100,batch_size=64,callbacks=[checkpoint])"
      ],
      "execution_count": 0,
      "outputs": []
    },
    {
      "cell_type": "code",
      "metadata": {
        "id": "UU06Hv0lxeqx",
        "colab_type": "code",
        "colab": {}
      },
      "source": [
        "model.load_weights(\"/content/drive/My Drive/Colab Notebooks/midi_songs/new_weights.hdf5\")"
      ],
      "execution_count": 0,
      "outputs": []
    },
    {
      "cell_type": "markdown",
      "metadata": {
        "id": "Lu1VvhjVBfn-",
        "colab_type": "text"
      },
      "source": [
        "## Predictions"
      ]
    },
    {
      "cell_type": "code",
      "metadata": {
        "id": "LVPyoUG4Be8E",
        "colab_type": "code",
        "colab": {}
      },
      "source": [
        "sequence_length = 100\n",
        "network_in = []\n",
        "\n",
        "\n",
        "for i in range(len(notes)-sequence_length):\n",
        "    seq_in = notes[i:i+sequence_length]\n",
        "    network_in.append([ele_to_int[ch] for ch in seq_in])"
      ],
      "execution_count": 0,
      "outputs": []
    },
    {
      "cell_type": "code",
      "metadata": {
        "id": "bGHnObSBBfAp",
        "colab_type": "code",
        "colab": {
          "base_uri": "https://localhost:8080/",
          "height": 34
        },
        "outputId": "e687f677-1110-4e5c-e06b-36a34ddcfbd0"
      },
      "source": [
        "start = np.random.randint(len(network_in)-1)\n",
        "start "
      ],
      "execution_count": 40,
      "outputs": [
        {
          "output_type": "execute_result",
          "data": {
            "text/plain": [
              "6562"
            ]
          },
          "metadata": {
            "tags": []
          },
          "execution_count": 40
        }
      ]
    },
    {
      "cell_type": "markdown",
      "metadata": {
        "id": "CaMDbEsuEyZ7",
        "colab_type": "text"
      },
      "source": [
        ""
      ]
    },
    {
      "cell_type": "code",
      "metadata": {
        "id": "vxmh1zHcBe_K",
        "colab_type": "code",
        "colab": {}
      },
      "source": [
        "network_in[start]\n",
        "\n",
        "# Mapping int to element\n",
        "int_to_ele = dict((num,ele) for num,ele in enumerate(pitchnames))\n",
        "\n",
        "#initial pattern\n",
        "pattern = network_in[start]\n",
        "prediction_out = []\n",
        "\n",
        "#generate 200 elements\n",
        "for note_index in range(200):\n",
        "    prediction_in = np.reshape(pattern,(1,len(pattern),1))\n",
        "    prediction_in = prediction_in/float(n_vocab)\n",
        "\n",
        "    prediction = model.predict(prediction_in,verbose=0)\n",
        "\n",
        "    idx = np.argmax(prediction)\n",
        "    result = int_to_ele[idx]\n",
        "    prediction_out.append(result)\n",
        "\n",
        "    #now taking the next sequence\n",
        "    pattern.append(idx)\n",
        "    pattern = pattern[1:]\n"
      ],
      "execution_count": 0,
      "outputs": []
    },
    {
      "cell_type": "code",
      "metadata": {
        "id": "dzuYZOQwlo7_",
        "colab_type": "code",
        "colab": {
          "base_uri": "https://localhost:8080/",
          "height": 34
        },
        "outputId": "cc9a4e61-8bd9-45d9-dc81-bfdcc13638ff"
      },
      "source": [
        "print(len(prediction_out))"
      ],
      "execution_count": 43,
      "outputs": [
        {
          "output_type": "stream",
          "text": [
            "200\n"
          ],
          "name": "stdout"
        }
      ]
    },
    {
      "cell_type": "markdown",
      "metadata": {
        "id": "UMfmqSCaqPsl",
        "colab_type": "text"
      },
      "source": [
        "## Create Midi File"
      ]
    },
    {
      "cell_type": "code",
      "metadata": {
        "id": "T9zdJKH1lpBQ",
        "colab_type": "code",
        "colab": {}
      },
      "source": [
        " #Time\n",
        " offset = 0\n",
        " output_notes = []\n",
        "\n",
        " for pattern in prediction_out:\n",
        "\n",
        "     #If pattern is a chord \n",
        "     if ('+'  in pattern ) or pattern.isdigit():\n",
        "         notes_in_chord = pattern.split('+')\n",
        "         temp_notes = []\n",
        "         for current_note in notes_in_chord:\n",
        "             new_note = note.Note(int(current_note)) #create note object for each note in the chord\n",
        "             new_note.storedInstrument = instrument.Piano()\n",
        "             temp_notes.append(new_note)\n",
        "\n",
        "         new_chord = chord.Chord(temp_notes) #creates chords from list of nodes\n",
        "         new_chord.offset = offset    \n",
        "         output_notes.append(new_note)\n",
        "     \n",
        "     else:\n",
        "     #If pattern is a note\n",
        "     \n",
        "        new_note = note.Note(pattern)\n",
        "        new_note.offset = offset\n",
        "        new_note.storedInstrument = instrument.Piano()\n",
        "        output_notes.append(new_note)\n",
        "\n",
        "     offset += 0.5"
      ],
      "execution_count": 0,
      "outputs": []
    },
    {
      "cell_type": "code",
      "metadata": {
        "id": "iyIvN4rhlo_g",
        "colab_type": "code",
        "colab": {}
      },
      "source": [
        "output_notes"
      ],
      "execution_count": 0,
      "outputs": []
    },
    {
      "cell_type": "code",
      "metadata": {
        "id": "X0sC05DhvtML",
        "colab_type": "code",
        "colab": {}
      },
      "source": [
        ""
      ],
      "execution_count": 0,
      "outputs": []
    },
    {
      "cell_type": "code",
      "metadata": {
        "id": "_CyH7VRHxZhj",
        "colab_type": "code",
        "colab": {
          "base_uri": "https://localhost:8080/",
          "height": 34
        },
        "outputId": "e16b5fb4-e2bb-4207-8c63-cb4b00f7ab58"
      },
      "source": [
        "output_notes"
      ],
      "execution_count": 53,
      "outputs": [
        {
          "output_type": "execute_result",
          "data": {
            "text/plain": [
              "[<music21.note.Note G#>]"
            ]
          },
          "metadata": {
            "tags": []
          },
          "execution_count": 53
        }
      ]
    },
    {
      "cell_type": "code",
      "metadata": {
        "id": "Hq0CDW-mxbzc",
        "colab_type": "code",
        "colab": {
          "base_uri": "https://localhost:8080/",
          "height": 34
        },
        "outputId": "a791cf54-e1db-4d1e-9d70-92d12e5fe087"
      },
      "source": [
        "# create a stream object from the generated notes\n",
        "midi_stream = stream.Stream(output_notes)\n",
        "midi_stream.write('midi',fp=\"test_output.mid\")"
      ],
      "execution_count": 63,
      "outputs": [
        {
          "output_type": "execute_result",
          "data": {
            "text/plain": [
              "'test_output.mid'"
            ]
          },
          "metadata": {
            "tags": []
          },
          "execution_count": 63
        }
      ]
    },
    {
      "cell_type": "code",
      "metadata": {
        "id": "5-qwxFQ_1QTY",
        "colab_type": "code",
        "colab": {}
      },
      "source": [
        ""
      ],
      "execution_count": 0,
      "outputs": []
    }
  ]
}